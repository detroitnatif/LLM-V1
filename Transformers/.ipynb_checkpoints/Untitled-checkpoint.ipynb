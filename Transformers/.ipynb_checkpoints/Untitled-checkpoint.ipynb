{
 "cells": [
  {
   "cell_type": "code",
   "execution_count": 21,
   "id": "068d90df",
   "metadata": {},
   "outputs": [],
   "source": [
    "import os\n",
    "os.environ['PATH'] += ':/opt/local/bin'\n",
    "import torch"
   ]
  },
  {
   "cell_type": "code",
   "execution_count": 54,
   "id": "ffd77f72",
   "metadata": {},
   "outputs": [],
   "source": [
    "torch.manual_seed(42)\n",
    "nums = torch.randint(low=0, high=10, size=(100,))\n",
    "outs = torch.zeros(len(nums))\n",
    "for i, j in enumerate(nums[:-1]):\n",
    "    outs[i] = nums[i].item() + nums[i+1].item()\n"
   ]
  },
  {
   "cell_type": "code",
   "execution_count": 45,
   "id": "c649c303",
   "metadata": {},
   "outputs": [
    {
     "name": "stdout",
     "output_type": "stream",
     "text": [
      "0\n",
      "when context is 2 + 7 it equals 9.0\n",
      "1\n",
      "when context is 7 + 6 it equals 13.0\n",
      "2\n",
      "when context is 6 + 4 it equals 10.0\n",
      "3\n",
      "when context is 4 + 6 it equals 10.0\n",
      "4\n",
      "when context is 6 + 5 it equals 11.0\n",
      "5\n",
      "when context is 5 + 0 it equals 5.0\n",
      "6\n",
      "when context is 0 + 4 it equals 4.0\n",
      "7\n",
      "when context is 4 + 0 it equals 4.0\n",
      "8\n",
      "when context is 0 + 3 it equals 3.0\n"
     ]
    }
   ],
   "source": [
    "block_size = 2\n",
    "x = nums[:10]\n",
    "y = outs[:10]\n",
    "for i in range(len(x) - 1):\n",
    "    print(i)\n",
    "    context1 = x[i]\n",
    "    context2 = x[i+1]\n",
    "    answer = y[i]\n",
    "    print(f\"when context is {context1} + {context2} it equals {answer}\")"
   ]
  },
  {
   "cell_type": "code",
   "execution_count": 62,
   "id": "ed10d1de",
   "metadata": {},
   "outputs": [
    {
     "ename": "NameError",
     "evalue": "name 'Y' is not defined",
     "output_type": "error",
     "traceback": [
      "\u001b[0;31m---------------------------------------------------------------------------\u001b[0m",
      "\u001b[0;31mNameError\u001b[0m                                 Traceback (most recent call last)",
      "Input \u001b[0;32mIn [62]\u001b[0m, in \u001b[0;36m<cell line: 9>\u001b[0;34m()\u001b[0m\n\u001b[1;32m      6\u001b[0m     Y \u001b[38;5;241m=\u001b[39m outs[ix]\n\u001b[1;32m      7\u001b[0m     \u001b[38;5;28mprint\u001b[39m(Y)\n\u001b[0;32m----> 9\u001b[0m \u001b[38;5;28mprint\u001b[39m(\u001b[43mY\u001b[49m[\u001b[38;5;241m6\u001b[39m])\n\u001b[1;32m     10\u001b[0m get_batch()\n",
      "\u001b[0;31mNameError\u001b[0m: name 'Y' is not defined"
     ]
    }
   ],
   "source": [
    "def get_batch():\n",
    "    torch.manual_seed(42)\n",
    "    ix = torch.randint(len(nums) - 1, (4,),)\n",
    "    print(ix)\n",
    "    X = nums[ix]\n",
    "    Y = outs[ix]\n",
    "    print(Y)\n",
    "    return X, Y\n",
    "    \n",
    "print(outs[6])\n",
    "get_batch()"
   ]
  },
  {
   "cell_type": "code",
   "execution_count": null,
   "id": "03042484",
   "metadata": {},
   "outputs": [],
   "source": []
  },
  {
   "cell_type": "code",
   "execution_count": null,
   "id": "bb6f61dd",
   "metadata": {},
   "outputs": [],
   "source": []
  }
 ],
 "metadata": {
  "kernelspec": {
   "display_name": "Python 3 (ipykernel)",
   "language": "python",
   "name": "python3"
  },
  "language_info": {
   "codemirror_mode": {
    "name": "ipython",
    "version": 3
   },
   "file_extension": ".py",
   "mimetype": "text/x-python",
   "name": "python",
   "nbconvert_exporter": "python",
   "pygments_lexer": "ipython3",
   "version": "3.9.13"
  }
 },
 "nbformat": 4,
 "nbformat_minor": 5
}
