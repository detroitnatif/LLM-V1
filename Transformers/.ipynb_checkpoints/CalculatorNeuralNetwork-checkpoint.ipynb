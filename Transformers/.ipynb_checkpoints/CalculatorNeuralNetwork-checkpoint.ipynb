{
 "cells": [
  {
   "cell_type": "code",
   "execution_count": 2,
   "id": "0ca8a52a",
   "metadata": {},
   "outputs": [],
   "source": [
    "import os\n",
    "os.environ['PATH'] += ':/opt/local/bin'\n",
    "import torch"
   ]
  },
  {
   "cell_type": "code",
   "execution_count": 3,
   "id": "66ed18a1",
   "metadata": {},
   "outputs": [],
   "source": [
    "torch.manual_seed(42)\n",
    "nums = torch.randint(low=0, high=10, size=(100,))\n",
    "outs = torch.zeros(len(nums))\n",
    "for i, j in enumerate(nums[:-1]):\n",
    "    outs[i] = nums[i].item() + nums[i+1].item()\n"
   ]
  },
  {
   "cell_type": "code",
   "execution_count": 4,
   "id": "6020b22b",
   "metadata": {},
   "outputs": [
    {
     "name": "stdout",
     "output_type": "stream",
     "text": [
      "0\n",
      "when context is 2 + 7 it equals 9.0\n",
      "1\n",
      "when context is 7 + 6 it equals 13.0\n",
      "2\n",
      "when context is 6 + 4 it equals 10.0\n",
      "3\n",
      "when context is 4 + 6 it equals 10.0\n",
      "4\n",
      "when context is 6 + 5 it equals 11.0\n",
      "5\n",
      "when context is 5 + 0 it equals 5.0\n",
      "6\n",
      "when context is 0 + 4 it equals 4.0\n",
      "7\n",
      "when context is 4 + 0 it equals 4.0\n",
      "8\n",
      "when context is 0 + 3 it equals 3.0\n"
     ]
    }
   ],
   "source": [
    "x = nums[:10]\n",
    "y = outs[:10]\n",
    "for i in range(len(x) - 1):\n",
    "    print(i)\n",
    "    context1 = x[i]\n",
    "    context2 = x[i+1]\n",
    "    answer = y[i]\n",
    "    print(f\"when context is {context1} + {context2} it equals {answer}\")"
   ]
  },
  {
   "cell_type": "code",
   "execution_count": 5,
   "id": "f187ca49",
   "metadata": {},
   "outputs": [
    {
     "name": "stdout",
     "output_type": "stream",
     "text": [
      "tensor([8, 1, 6, 0])\n",
      "tensor([9., 4., 6., 4.])\n"
     ]
    },
    {
     "data": {
      "text/plain": [
       "(tensor([8, 1, 6, 0]), tensor([9., 4., 6., 4.]))"
      ]
     },
     "execution_count": 5,
     "metadata": {},
     "output_type": "execute_result"
    }
   ],
   "source": [
    "block_size = 2\n",
    "batch_size = 4\n",
    "\n",
    "\n",
    "def get_batch():\n",
    "    torch.manual_seed(42)\n",
    "    ix = torch.randint(len(nums) - block_size, (batch_size,),)\n",
    "    Xb = nums[ix]\n",
    "    Yb = outs[ix]\n",
    "#     x = torch.stack([nums[i:i+block_size] for i in ix])\n",
    "#     y = torch.stack([nums[i+1:i+block_size+1] for i in ix])\n",
    "    \n",
    "    print(Xb)\n",
    "    print(Yb)\n",
    "    return Xb, Yb\n",
    "    \n",
    "\n",
    "get_batch()"
   ]
  },
  {
   "cell_type": "code",
   "execution_count": 16,
   "id": "887489a1",
   "metadata": {},
   "outputs": [
    {
     "name": "stdout",
     "output_type": "stream",
     "text": [
      "torch.Size([9, 2])\n",
      "------\n",
      "torch.Size([9])\n"
     ]
    }
   ],
   "source": [
    "X, Y = [], []\n",
    "for i in range(len(nums[:10]) - 1):\n",
    "    context = []\n",
    "    context.append(nums[i])\n",
    "    context.append(nums[i+1])\n",
    "    X.append(context)\n",
    "    Y.append(outs[i])\n",
    "\n",
    "    \n",
    "\n",
    "X = torch.tensor(X)\n",
    "Y = torch.tensor(Y)\n",
    "\n",
    "print(X.shape)\n",
    "print(\"------\")\n",
    "print(Y.shape)\n",
    "\n",
    "\n"
   ]
  },
  {
   "cell_type": "code",
   "execution_count": null,
   "id": "72d250bb",
   "metadata": {},
   "outputs": [],
   "source": [
    "C = torch.randn((100,2))"
   ]
  }
 ],
 "metadata": {
  "kernelspec": {
   "display_name": "Python 3 (ipykernel)",
   "language": "python",
   "name": "python3"
  },
  "language_info": {
   "codemirror_mode": {
    "name": "ipython",
    "version": 3
   },
   "file_extension": ".py",
   "mimetype": "text/x-python",
   "name": "python",
   "nbconvert_exporter": "python",
   "pygments_lexer": "ipython3",
   "version": "3.9.13"
  }
 },
 "nbformat": 4,
 "nbformat_minor": 5
}
