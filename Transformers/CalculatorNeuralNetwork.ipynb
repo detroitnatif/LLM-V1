{
 "cells": [
  {
   "cell_type": "code",
   "execution_count": 39,
   "id": "96efade6",
   "metadata": {},
   "outputs": [],
   "source": [
    "import os\n",
    "os.environ['PATH'] += ':/opt/local/bin'\n",
    "import torch\n",
    "import torch.nn.functional as F\n",
    "import matplotlib.pyplot as plt\n",
    "import numpy as np\n",
    "%matplotlib inline"
   ]
  },
  {
   "cell_type": "code",
   "execution_count": 66,
   "id": "68d2be38",
   "metadata": {},
   "outputs": [],
   "source": [
    "torch.manual_seed(42)\n",
    "ins = torch.randint(low=0, high=10, size=(100,))\n",
    "outs = torch.zeros(len(nums))\n",
    "for i, j in enumerate(nums[:-1]):\n",
    "    outs[i] = nums[i].item() + nums[i+1].item()\n"
   ]
  },
  {
   "cell_type": "code",
   "execution_count": 41,
   "id": "fa1d9574",
   "metadata": {},
   "outputs": [
    {
     "name": "stdout",
     "output_type": "stream",
     "text": [
      "0\n",
      "when context is 2 + 7 it equals 9.0\n",
      "1\n",
      "when context is 7 + 6 it equals 13.0\n",
      "2\n",
      "when context is 6 + 4 it equals 10.0\n",
      "3\n",
      "when context is 4 + 6 it equals 10.0\n",
      "4\n",
      "when context is 6 + 5 it equals 11.0\n",
      "5\n",
      "when context is 5 + 0 it equals 5.0\n",
      "6\n",
      "when context is 0 + 4 it equals 4.0\n",
      "7\n",
      "when context is 4 + 0 it equals 4.0\n",
      "8\n",
      "when context is 0 + 3 it equals 3.0\n"
     ]
    }
   ],
   "source": [
    "x = nums[:10]\n",
    "y = outs[:10]\n",
    "for i in range(len(x) - 1):\n",
    "    print(i)\n",
    "    context1 = x[i]\n",
    "    context2 = x[i+1]\n",
    "    answer = y[i]\n",
    "    print(f\"when context is {context1} + {context2} it equals {answer}\")"
   ]
  },
  {
   "cell_type": "code",
   "execution_count": 42,
   "id": "dbfc6a33",
   "metadata": {},
   "outputs": [],
   "source": [
    "block_size = 2\n",
    "batch_size = 4\n",
    "\n",
    "\n",
    "# FIRST ITERATION, NOT THE RIGHT APPROACH, I FIGURED I COULD MAKE TWO TENSORS, ONE WITH THE NUMBERS AND THE OTHER\n",
    "# JUST OFFSET BY 1\n",
    "# def get_batch():\n",
    "#     torch.manual_seed(42)\n",
    "#     ix = torch.randint(len(nums) - block_size, (batch_size,),)\n",
    "#     Xb = nums[ix]\n",
    "#     Yb = outs[ix]\n",
    "# #     x = torch.stack([nums[i:i+block_size] for i in ix])\n",
    "# #     y = torch.stack([nums[i+1:i+block_size+1] for i in ix])\n",
    "    \n",
    "#     print(Xb)\n",
    "#     print(Yb)\n",
    "#     return Xb, Yb\n",
    "    \n",
    "\n",
    "# get_batch()"
   ]
  },
  {
   "cell_type": "code",
   "execution_count": 67,
   "id": "0a5c4b02",
   "metadata": {},
   "outputs": [
    {
     "name": "stdout",
     "output_type": "stream",
     "text": [
      "tensor([2, 7]) tensor(9)\n"
     ]
    }
   ],
   "source": [
    "\n",
    "def get_batch(nums):\n",
    "    X, Y = [], []\n",
    "    for i in range(len(nums) - 2):\n",
    "        context = []\n",
    "        context.append(nums[i])\n",
    "        context.append(nums[i+1])\n",
    "        X.append(context)\n",
    "        Y.append(outs[i].long())\n",
    "\n",
    "\n",
    "\n",
    "    X = torch.tensor(X).long()\n",
    "    Y = torch.tensor(Y).long()\n",
    "    return X, Y\n",
    "\n",
    "\n",
    "n1 = int(.9*(len(ins)))\n",
    "training = ins[:n1]\n",
    "test = ins[n1:]\n",
    "\n",
    "\n",
    "Xtr, Ytr = get_batch(training)\n",
    "Xtest, Ytest = get_batch(test)\n",
    "print(Xtr[0], Ytr[0])"
   ]
  },
  {
   "cell_type": "code",
   "execution_count": 73,
   "id": "588de6a6",
   "metadata": {},
   "outputs": [],
   "source": [
    "import torch\n",
    "import torch.nn as nn\n",
    "import torch.optim as optim\n",
    "\n",
    "\n",
    "# Define your neural network model\n",
    "class Calc(nn.Module):\n",
    "    def __init__(self, input_dim, output_dim):\n",
    "        super(Calc, self).__init__()\n",
    "        self.fc = nn.Linear(input_dim, output_dim)\n",
    "    \n",
    "    def forward(self, x):\n",
    "        return self.fc(x)\n",
    "\n",
    "# Prepare your data \n",
    "Xtr, Ytr = get_batch(training)\n",
    "Xtr = Xtr.float()\n",
    "Ytr = Ytr.float()\n",
    "Ytr = Ytr.view(-1, 1)\n",
    "\n",
    "# Define your model\n",
    "model = Calc(input_dim=2, output_dim=1)\n",
    "\n",
    "# Define a loss function\n",
    "criterion = nn.MSELoss()\n",
    "\n",
    "# Choose an optimizer\n",
    "optimizer = optim.SGD(model.parameters(), lr=0.01)\n",
    "\n",
    "num_epochs = 100\n",
    "\n",
    "# Training loop\n",
    "for epoch in range(num_epochs):\n",
    "    # Forward pass\n",
    "    predictions = model(Xtr)\n",
    "    \n",
    "    # Compute the loss\n",
    "    loss = criterion(predictions, Ytr)\n",
    "    \n",
    "    # Backward pass and optimization\n",
    "    optimizer.zero_grad()\n",
    "    loss.backward()\n",
    "    optimizer.step()\n"
   ]
  },
  {
   "cell_type": "code",
   "execution_count": 76,
   "id": "3a549253",
   "metadata": {},
   "outputs": [
    {
     "data": {
      "text/plain": [
       "tensor([[0.0237, 0.3876],\n",
       "        [0.2573, 0.9897],\n",
       "        [0.8560, 0.8730],\n",
       "        [0.8424, 0.1901],\n",
       "        [0.2853, 0.3043],\n",
       "        [0.2996, 0.8892],\n",
       "        [0.6699, 0.9007],\n",
       "        [0.4766, 0.0543],\n",
       "        [0.3549, 0.8514],\n",
       "        [0.8044, 0.6548],\n",
       "        [0.3533, 0.0333],\n",
       "        [0.2313, 0.7607],\n",
       "        [0.2983, 0.7392],\n",
       "        [0.6365, 0.3080],\n",
       "        [0.8045, 0.3393],\n",
       "        [0.4834, 0.3095],\n",
       "        [0.0257, 0.5806],\n",
       "        [0.6445, 0.2483],\n",
       "        [0.8067, 0.0515],\n",
       "        [0.0180, 0.1912],\n",
       "        [0.3272, 0.4445],\n",
       "        [0.4034, 0.7282],\n",
       "        [0.0612, 0.5736],\n",
       "        [0.5087, 0.6321],\n",
       "        [0.9970, 0.8077],\n",
       "        [0.2231, 0.0903],\n",
       "        [0.3789, 0.2492],\n",
       "        [0.6747, 0.5046],\n",
       "        [0.9022, 0.6964],\n",
       "        [0.4081, 0.5172],\n",
       "        [0.6197, 0.4380],\n",
       "        [0.9035, 0.1090],\n",
       "        [0.7437, 0.1813],\n",
       "        [0.0620, 0.3974],\n",
       "        [0.7437, 0.8533],\n",
       "        [0.6255, 0.4568],\n",
       "        [0.4720, 0.2973],\n",
       "        [0.4551, 0.4655],\n",
       "        [0.9255, 0.7926],\n",
       "        [0.0999, 0.5021],\n",
       "        [0.1925, 0.4206],\n",
       "        [0.1026, 0.6300],\n",
       "        [0.1395, 0.9936],\n",
       "        [0.8776, 0.1558],\n",
       "        [0.0293, 0.5195],\n",
       "        [0.3604, 0.6468],\n",
       "        [0.1615, 0.7047],\n",
       "        [0.0681, 0.2361],\n",
       "        [0.2371, 0.7419],\n",
       "        [0.4869, 0.0195]])"
      ]
     },
     "execution_count": 76,
     "metadata": {},
     "output_type": "execute_result"
    }
   ],
   "source": [
    "N = 1000  # number of samples\n",
    "D = 2\n",
    "\n",
    "X = torch.rand(N, D)\n",
    "y = torch.sum(X, axis=-1).reshape(-1, C)\n",
    "print(X[:50])\n",
    "print(y[:50])\n"
   ]
  },
  {
   "cell_type": "code",
   "execution_count": null,
   "id": "d15dd614",
   "metadata": {},
   "outputs": [],
   "source": []
  }
 ],
 "metadata": {
  "kernelspec": {
   "display_name": "Python 3 (ipykernel)",
   "language": "python",
   "name": "python3"
  },
  "language_info": {
   "codemirror_mode": {
    "name": "ipython",
    "version": 3
   },
   "file_extension": ".py",
   "mimetype": "text/x-python",
   "name": "python",
   "nbconvert_exporter": "python",
   "pygments_lexer": "ipython3",
   "version": "3.9.13"
  }
 },
 "nbformat": 4,
 "nbformat_minor": 5
}
