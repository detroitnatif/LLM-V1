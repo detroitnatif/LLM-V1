{
 "cells": [
  {
   "cell_type": "code",
   "execution_count": 21,
   "id": "efaa0b44",
   "metadata": {},
   "outputs": [],
   "source": [
    "import os\n",
    "os.environ['PATH'] += ':/opt/local/bin'\n",
    "import torch"
   ]
  },
  {
   "cell_type": "code",
   "execution_count": 54,
   "id": "03613cc7",
   "metadata": {},
   "outputs": [],
   "source": [
    "torch.manual_seed(42)\n",
    "nums = torch.randint(low=0, high=10, size=(100,))\n",
    "outs = torch.zeros(len(nums))\n",
    "for i, j in enumerate(nums[:-1]):\n",
    "    outs[i] = nums[i].item() + nums[i+1].item()\n"
   ]
  },
  {
   "cell_type": "code",
   "execution_count": 45,
   "id": "a116d46b",
   "metadata": {},
   "outputs": [
    {
     "name": "stdout",
     "output_type": "stream",
     "text": [
      "0\n",
      "when context is 2 + 7 it equals 9.0\n",
      "1\n",
      "when context is 7 + 6 it equals 13.0\n",
      "2\n",
      "when context is 6 + 4 it equals 10.0\n",
      "3\n",
      "when context is 4 + 6 it equals 10.0\n",
      "4\n",
      "when context is 6 + 5 it equals 11.0\n",
      "5\n",
      "when context is 5 + 0 it equals 5.0\n",
      "6\n",
      "when context is 0 + 4 it equals 4.0\n",
      "7\n",
      "when context is 4 + 0 it equals 4.0\n",
      "8\n",
      "when context is 0 + 3 it equals 3.0\n"
     ]
    }
   ],
   "source": [
    "block_size = 2\n",
    "x = nums[:10]\n",
    "y = outs[:10]\n",
    "for i in range(len(x) - 1):\n",
    "    print(i)\n",
    "    context1 = x[i]\n",
    "    context2 = x[i+1]\n",
    "    answer = y[i]\n",
    "    print(f\"when context is {context1} + {context2} it equals {answer}\")"
   ]
  },
  {
   "cell_type": "code",
   "execution_count": 64,
   "id": "94854958",
   "metadata": {},
   "outputs": [
    {
     "name": "stdout",
     "output_type": "stream",
     "text": [
      "tensor([ 6, 95, 97, 58])\n",
      "tensor([ 4.,  6., 10., 16.])\n"
     ]
    },
    {
     "data": {
      "text/plain": [
       "(tensor([0, 5, 9, 8]), tensor([ 4.,  6., 10., 16.]))"
      ]
     },
     "execution_count": 64,
     "metadata": {},
     "output_type": "execute_result"
    }
   ],
   "source": [
    "def get_batch():\n",
    "    torch.manual_seed(42)\n",
    "    ix = torch.randint(len(nums) - 1, (4,),)\n",
    "    print(ix)\n",
    "    X = nums[ix]\n",
    "    Y = outs[ix]\n",
    "    print(Y)\n",
    "    return X, Y\n",
    "    \n",
    "\n",
    "get_batch()"
   ]
  },
  {
   "cell_type": "code",
   "execution_count": null,
   "id": "badc76e7",
   "metadata": {},
   "outputs": [],
   "source": []
  },
  {
   "cell_type": "code",
   "execution_count": null,
   "id": "23363b28",
   "metadata": {},
   "outputs": [],
   "source": []
  }
 ],
 "metadata": {
  "kernelspec": {
   "display_name": "Python 3 (ipykernel)",
   "language": "python",
   "name": "python3"
  },
  "language_info": {
   "codemirror_mode": {
    "name": "ipython",
    "version": 3
   },
   "file_extension": ".py",
   "mimetype": "text/x-python",
   "name": "python",
   "nbconvert_exporter": "python",
   "pygments_lexer": "ipython3",
   "version": "3.9.13"
  }
 },
 "nbformat": 4,
 "nbformat_minor": 5
}
