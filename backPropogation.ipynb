{
 "cells": [
  {
   "cell_type": "code",
   "execution_count": 49,
   "id": "2df96a9c",
   "metadata": {},
   "outputs": [],
   "source": [
    "import math\n",
    "import numpy as np\n",
    "import matplotlib.pyplot as plt\n",
    "%matplotlib inline"
   ]
  },
  {
   "cell_type": "code",
   "execution_count": 50,
   "id": "9cafa1c7",
   "metadata": {},
   "outputs": [],
   "source": [
    "def f(x):\n",
    "    return x**2 + 4*x + 7"
   ]
  },
  {
   "cell_type": "code",
   "execution_count": 51,
   "id": "0be9cd9c",
   "metadata": {},
   "outputs": [
    {
     "data": {
      "text/plain": [
       "28"
      ]
     },
     "execution_count": 51,
     "metadata": {},
     "output_type": "execute_result"
    }
   ],
   "source": [
    "f(3)"
   ]
  },
  {
   "cell_type": "code",
   "execution_count": 52,
   "id": "2d194938",
   "metadata": {},
   "outputs": [
    {
     "name": "stdout",
     "output_type": "stream",
     "text": [
      "-3.75\n",
      "6.0625\n"
     ]
    },
    {
     "data": {
      "text/plain": [
       "[<matplotlib.lines.Line2D at 0x7fad87636fa0>]"
      ]
     },
     "execution_count": 52,
     "metadata": {},
     "output_type": "execute_result"
    },
    {
     "data": {
      "image/png": "[encoded data removed]",
      "text/plain": [
       "<Figure size 640x480 with 1 Axes>"
      ]
     },
     "metadata": {},
     "output_type": "display_data"
    }
   ],
   "source": [
    "xs = np.arange(-5, 5, .25)\n",
    "ys = f(xs)\n",
    "print(xs[5])\n",
    "print(ys[5])\n",
    "plt.plot(xs, ys)\n",
    "a = f(2)\n",
    "plt.plot(2, a, 'ro')"
   ]
  },
  {
   "cell_type": "code",
   "execution_count": 53,
   "id": "bd1300e4",
   "metadata": {},
   "outputs": [],
   "source": [
    "from graphviz import Digraph\n",
    "\n",
    "def trace(root):\n",
    "    # builds a set of all nodes and edges in a graph\n",
    "    nodes, edges = set(), set()\n",
    "    def build(v):\n",
    "        if v not in nodes:\n",
    "            nodes.add(v)\n",
    "            for child in v._prev:\n",
    "                edges.add((child, v))\n",
    "                build(child)\n",
    "    build(root)\n",
    "    return nodes, edges\n",
    "\n",
    "def draw_dot(root):\n",
    "    dot = Digraph(format='svg', graph_attr = {'rankdir': 'LR'}) #LR c-a-d left to right\n",
    "    nodes, edges = trace(root)\n",
    "    \n",
    "    for n in nodes:\n",
    "        uid = str(id(n))\n",
    "        \n",
    "        dot.node(name = uid, label = \"{ %s | data %.4f | grad %.4f }\" % (n.label, n.data, n.grad), shape='record')\n",
    "        if n._op:\n",
    "            \n",
    "        # for any value in the graph, create a rectanular node for it\n",
    "        \n",
    "            dot.node(name = uid + n._op, label = n._op)\n",
    "\n",
    "            # connect node to it\n",
    "\n",
    "            dot.edge(uid + n._op, uid)\n",
    "\n",
    "    for n1, n2 in edges:\n",
    "        # connect n1 to the op node of n2\n",
    "        dot.edge(str(id(n1)), str(id(n2)) + n2._op)\n",
    "        \n",
    "    return dot\n",
    "\n",
    "        \n",
    "    "
   ]
  },
  {
   "cell_type": "code",
   "execution_count": 54,
   "id": "11043cf3",
   "metadata": {},
   "outputs": [],
   "source": [
    "class Value:\n",
    "    def __init__(self, data, _children=(), _op='', label=\"\"):\n",
    "        self.data = data\n",
    "        self.grad = 0.0\n",
    "        self._prev = set(_children)\n",
    "        self._op = _op\n",
    "        self.label = label\n",
    "        \n",
    "    def __repr__(self):\n",
    "        return f\"Value data={self.data}\"\n",
    "    \n",
    "    def __add__(self, other):\n",
    "        out = Value(self.data + other.data, (self, other), '+')\n",
    "        return out\n",
    "    def __mul__(self, other):\n",
    "        out = Value(self.data * other.data, (self, other), '*')\n",
    "        return out\n",
    "    \n",
    "\n",
    "a = Value(2.0, label='a')\n",
    "b = Value(-3.0, label='b')\n",
    "c = Value(10.0, label='c')\n",
    "e = a*b; e.label = 'e'\n",
    "d = e + c; d.label = 'd'\n",
    "f = Value(-2.0, label='f')\n",
    "L = d * f; L.label = 'L'\n"
   ]
  },
  {
   "cell_type": "code",
   "execution_count": 55,
   "id": "b3a8043d",
   "metadata": {},
   "outputs": [
    {
     "data": {
      "text/plain": [
       "{Value data=-6.0, Value data=10.0}"
      ]
     },
     "execution_count": 55,
     "metadata": {},
     "output_type": "execute_result"
    }
   ],
   "source": [
    "d._prev"
   ]
  },
  {
   "cell_type": "code",
   "execution_count": 56,
   "id": "e13af66f",
   "metadata": {},
   "outputs": [
    {
     "data": {
      "text/plain": [
       "'+'"
      ]
     },
     "execution_count": 56,
     "metadata": {},
     "output_type": "execute_result"
    }
   ],
   "source": [
    "d._op"
   ]
  },
  {
   "cell_type": "code",
   "execution_count": 62,
   "id": "1c48ddf6",
   "metadata": {},
   "outputs": [],
   "source": [
    "a.grad = -2.0 * -3.0\n",
    "b.grad = -2.0 * -3.0\n",
    "L.grad = 1.0\n",
    "f.grad = 4.0\n",
    "d.grad = -2.0\n",
    "c.grad = d.grad\n",
    "e.grad =  d.grad"
   ]
  },
  {
   "cell_type": "code",
   "execution_count": 63,
   "id": "95adf6c3",
   "metadata": {},
   "outputs": [
    {
     "data": {
      "image/svg+xml": [
       "<?xml version=\"1.0\" encoding=\"UTF-8\" standalone=\"no\"?>\n",
       "<!DOCTYPE svg PUBLIC \"-//W3C//DTD SVG 1.1//EN\"\n",
       " \"http://www.w3.org/Graphics/SVG/1.1/DTD/svg11.dtd\">\n",
       "<!-- Generated by graphviz version 5.0.0 (20220707.1540)\n",
       " -->\n",
       "<!-- Pages: 1 -->\n",
       "<svg width=\"1153pt\" height=\"154pt\"\n",
       " viewBox=\"0.00 0.00 1153.00 154.00\" xmlns=\"http://www.w3.org/2000/svg\" xmlns:xlink=\"http://www.w3.org/1999/xlink\">\n",
       "<g id=\"graph0\" class=\"graph\" transform=\"scale(1 1) rotate(0) translate(4 150)\">\n",
       "<polygon fill=\"white\" stroke=\"transparent\" points=\"-4,4 -4,-150 1149,-150 1149,4 -4,4\"/>\n",
       "<!-- 140383287249936 -->\n",
       "<g id=\"node1\" class=\"node\">\n",
       "<title>140383287249936</title>\n",
       "<polygon fill=\"none\" stroke=\"black\" points=\"317,-27.5 317,-63.5 511,-63.5 511,-27.5 317,-27.5\"/>\n",
       "<text text-anchor=\"middle\" x=\"328.5\" y=\"-41.8\" font-family=\"Times,serif\" font-size=\"14.00\">e</text>\n",
       "<polyline fill=\"none\" stroke=\"black\" points=\"340,-27.5 340,-63.5 \"/>\n",
       "<text text-anchor=\"middle\" x=\"382.5\" y=\"-41.8\" font-family=\"Times,serif\" font-size=\"14.00\">data &#45;6.0000</text>\n",
       "<polyline fill=\"none\" stroke=\"black\" points=\"425,-27.5 425,-63.5 \"/>\n",
       "<text text-anchor=\"middle\" x=\"468\" y=\"-41.8\" font-family=\"Times,serif\" font-size=\"14.00\">grad &#45;2.0000</text>\n",
       "</g>\n",
       "<!-- 140383287250416+ -->\n",
       "<g id=\"node10\" class=\"node\">\n",
       "<title>140383287250416+</title>\n",
       "<ellipse fill=\"none\" stroke=\"black\" cx=\"575\" cy=\"-72.5\" rx=\"27\" ry=\"18\"/>\n",
       "<text text-anchor=\"middle\" x=\"575\" y=\"-68.8\" font-family=\"Times,serif\" font-size=\"14.00\">+</text>\n",
       "</g>\n",
       "<!-- 140383287249936&#45;&gt;140383287250416+ -->\n",
       "<g id=\"edge5\" class=\"edge\">\n",
       "<title>140383287249936&#45;&gt;140383287250416+</title>\n",
       "<path fill=\"none\" stroke=\"black\" d=\"M511.16,-61.83C520.82,-63.47 530.13,-65.05 538.49,-66.47\"/>\n",
       "<polygon fill=\"black\" stroke=\"black\" points=\"538.09,-69.95 548.54,-68.18 539.26,-63.05 538.09,-69.95\"/>\n",
       "</g>\n",
       "<!-- 140383287249936* -->\n",
       "<g id=\"node2\" class=\"node\">\n",
       "<title>140383287249936*</title>\n",
       "<ellipse fill=\"none\" stroke=\"black\" cx=\"253\" cy=\"-45.5\" rx=\"27\" ry=\"18\"/>\n",
       "<text text-anchor=\"middle\" x=\"253\" y=\"-41.8\" font-family=\"Times,serif\" font-size=\"14.00\">*</text>\n",
       "</g>\n",
       "<!-- 140383287249936*&#45;&gt;140383287249936 -->\n",
       "<g id=\"edge1\" class=\"edge\">\n",
       "<title>140383287249936*&#45;&gt;140383287249936</title>\n",
       "<path fill=\"none\" stroke=\"black\" d=\"M280.26,-45.5C288.05,-45.5 297.1,-45.5 306.75,-45.5\"/>\n",
       "<polygon fill=\"black\" stroke=\"black\" points=\"306.99,-49 316.99,-45.5 306.99,-42 306.99,-49\"/>\n",
       "</g>\n",
       "<!-- 140383287237792 -->\n",
       "<g id=\"node3\" class=\"node\">\n",
       "<title>140383287237792</title>\n",
       "<polygon fill=\"none\" stroke=\"black\" points=\"2.5,-55.5 2.5,-91.5 187.5,-91.5 187.5,-55.5 2.5,-55.5\"/>\n",
       "<text text-anchor=\"middle\" x=\"14\" y=\"-69.8\" font-family=\"Times,serif\" font-size=\"14.00\">a</text>\n",
       "<polyline fill=\"none\" stroke=\"black\" points=\"25.5,-55.5 25.5,-91.5 \"/>\n",
       "<text text-anchor=\"middle\" x=\"65.5\" y=\"-69.8\" font-family=\"Times,serif\" font-size=\"14.00\">data 2.0000</text>\n",
       "<polyline fill=\"none\" stroke=\"black\" points=\"105.5,-55.5 105.5,-91.5 \"/>\n",
       "<text text-anchor=\"middle\" x=\"146.5\" y=\"-69.8\" font-family=\"Times,serif\" font-size=\"14.00\">grad 6.0000</text>\n",
       "</g>\n",
       "<!-- 140383287237792&#45;&gt;140383287249936* -->\n",
       "<g id=\"edge4\" class=\"edge\">\n",
       "<title>140383287237792&#45;&gt;140383287249936*</title>\n",
       "<path fill=\"none\" stroke=\"black\" d=\"M187.65,-57.05C197.94,-55.2 207.91,-53.41 216.81,-51.82\"/>\n",
       "<polygon fill=\"black\" stroke=\"black\" points=\"217.48,-55.25 226.71,-50.04 216.25,-48.36 217.48,-55.25\"/>\n",
       "</g>\n",
       "<!-- 140383287236928 -->\n",
       "<g id=\"node4\" class=\"node\">\n",
       "<title>140383287236928</title>\n",
       "<polygon fill=\"none\" stroke=\"black\" points=\"0,-0.5 0,-36.5 190,-36.5 190,-0.5 0,-0.5\"/>\n",
       "<text text-anchor=\"middle\" x=\"11.5\" y=\"-14.8\" font-family=\"Times,serif\" font-size=\"14.00\">b</text>\n",
       "<polyline fill=\"none\" stroke=\"black\" points=\"23,-0.5 23,-36.5 \"/>\n",
       "<text text-anchor=\"middle\" x=\"65.5\" y=\"-14.8\" font-family=\"Times,serif\" font-size=\"14.00\">data &#45;3.0000</text>\n",
       "<polyline fill=\"none\" stroke=\"black\" points=\"108,-0.5 108,-36.5 \"/>\n",
       "<text text-anchor=\"middle\" x=\"149\" y=\"-14.8\" font-family=\"Times,serif\" font-size=\"14.00\">grad 6.0000</text>\n",
       "</g>\n",
       "<!-- 140383287236928&#45;&gt;140383287249936* -->\n",
       "<g id=\"edge6\" class=\"edge\">\n",
       "<title>140383287236928&#45;&gt;140383287249936*</title>\n",
       "<path fill=\"none\" stroke=\"black\" d=\"M190.34,-34.83C199.62,-36.44 208.58,-37.99 216.66,-39.38\"/>\n",
       "<polygon fill=\"black\" stroke=\"black\" points=\"216.27,-42.87 226.72,-41.12 217.46,-35.97 216.27,-42.87\"/>\n",
       "</g>\n",
       "<!-- 140383287250848 -->\n",
       "<g id=\"node5\" class=\"node\">\n",
       "<title>140383287250848</title>\n",
       "<polygon fill=\"none\" stroke=\"black\" points=\"638.5,-109.5 638.5,-145.5 826.5,-145.5 826.5,-109.5 638.5,-109.5\"/>\n",
       "<text text-anchor=\"middle\" x=\"649\" y=\"-123.8\" font-family=\"Times,serif\" font-size=\"14.00\">f</text>\n",
       "<polyline fill=\"none\" stroke=\"black\" points=\"659.5,-109.5 659.5,-145.5 \"/>\n",
       "<text text-anchor=\"middle\" x=\"702\" y=\"-123.8\" font-family=\"Times,serif\" font-size=\"14.00\">data &#45;2.0000</text>\n",
       "<polyline fill=\"none\" stroke=\"black\" points=\"744.5,-109.5 744.5,-145.5 \"/>\n",
       "<text text-anchor=\"middle\" x=\"785.5\" y=\"-123.8\" font-family=\"Times,serif\" font-size=\"14.00\">grad 4.0000</text>\n",
       "</g>\n",
       "<!-- 140383287250368* -->\n",
       "<g id=\"node8\" class=\"node\">\n",
       "<title>140383287250368*</title>\n",
       "<ellipse fill=\"none\" stroke=\"black\" cx=\"890\" cy=\"-99.5\" rx=\"27\" ry=\"18\"/>\n",
       "<text text-anchor=\"middle\" x=\"890\" y=\"-95.8\" font-family=\"Times,serif\" font-size=\"14.00\">*</text>\n",
       "</g>\n",
       "<!-- 140383287250848&#45;&gt;140383287250368* -->\n",
       "<g id=\"edge7\" class=\"edge\">\n",
       "<title>140383287250848&#45;&gt;140383287250368*</title>\n",
       "<path fill=\"none\" stroke=\"black\" d=\"M826.65,-110.73C836.2,-109.01 845.43,-107.35 853.72,-105.85\"/>\n",
       "<polygon fill=\"black\" stroke=\"black\" points=\"854.47,-109.27 863.69,-104.06 853.23,-102.39 854.47,-109.27\"/>\n",
       "</g>\n",
       "<!-- 140383287237552 -->\n",
       "<g id=\"node6\" class=\"node\">\n",
       "<title>140383287237552</title>\n",
       "<polygon fill=\"none\" stroke=\"black\" points=\"316,-82.5 316,-118.5 512,-118.5 512,-82.5 316,-82.5\"/>\n",
       "<text text-anchor=\"middle\" x=\"327.5\" y=\"-96.8\" font-family=\"Times,serif\" font-size=\"14.00\">c</text>\n",
       "<polyline fill=\"none\" stroke=\"black\" points=\"339,-82.5 339,-118.5 \"/>\n",
       "<text text-anchor=\"middle\" x=\"382.5\" y=\"-96.8\" font-family=\"Times,serif\" font-size=\"14.00\">data 10.0000</text>\n",
       "<polyline fill=\"none\" stroke=\"black\" points=\"426,-82.5 426,-118.5 \"/>\n",
       "<text text-anchor=\"middle\" x=\"469\" y=\"-96.8\" font-family=\"Times,serif\" font-size=\"14.00\">grad &#45;2.0000</text>\n",
       "</g>\n",
       "<!-- 140383287237552&#45;&gt;140383287250416+ -->\n",
       "<g id=\"edge8\" class=\"edge\">\n",
       "<title>140383287237552&#45;&gt;140383287250416+</title>\n",
       "<path fill=\"none\" stroke=\"black\" d=\"M512.07,-83.41C521.42,-81.76 530.43,-80.17 538.55,-78.74\"/>\n",
       "<polygon fill=\"black\" stroke=\"black\" points=\"539.41,-82.15 548.65,-76.96 538.2,-75.25 539.41,-82.15\"/>\n",
       "</g>\n",
       "<!-- 140383287250368 -->\n",
       "<g id=\"node7\" class=\"node\">\n",
       "<title>140383287250368</title>\n",
       "<polygon fill=\"none\" stroke=\"black\" points=\"953,-81.5 953,-117.5 1145,-117.5 1145,-81.5 953,-81.5\"/>\n",
       "<text text-anchor=\"middle\" x=\"965.5\" y=\"-95.8\" font-family=\"Times,serif\" font-size=\"14.00\">L</text>\n",
       "<polyline fill=\"none\" stroke=\"black\" points=\"978,-81.5 978,-117.5 \"/>\n",
       "<text text-anchor=\"middle\" x=\"1020.5\" y=\"-95.8\" font-family=\"Times,serif\" font-size=\"14.00\">data &#45;8.0000</text>\n",
       "<polyline fill=\"none\" stroke=\"black\" points=\"1063,-81.5 1063,-117.5 \"/>\n",
       "<text text-anchor=\"middle\" x=\"1104\" y=\"-95.8\" font-family=\"Times,serif\" font-size=\"14.00\">grad 1.0000</text>\n",
       "</g>\n",
       "<!-- 140383287250368*&#45;&gt;140383287250368 -->\n",
       "<g id=\"edge2\" class=\"edge\">\n",
       "<title>140383287250368*&#45;&gt;140383287250368</title>\n",
       "<path fill=\"none\" stroke=\"black\" d=\"M917.28,-99.5C924.78,-99.5 933.44,-99.5 942.67,-99.5\"/>\n",
       "<polygon fill=\"black\" stroke=\"black\" points=\"942.87,-103 952.87,-99.5 942.87,-96 942.87,-103\"/>\n",
       "</g>\n",
       "<!-- 140383287250416 -->\n",
       "<g id=\"node9\" class=\"node\">\n",
       "<title>140383287250416</title>\n",
       "<polygon fill=\"none\" stroke=\"black\" points=\"638,-54.5 638,-90.5 827,-90.5 827,-54.5 638,-54.5\"/>\n",
       "<text text-anchor=\"middle\" x=\"649.5\" y=\"-68.8\" font-family=\"Times,serif\" font-size=\"14.00\">d</text>\n",
       "<polyline fill=\"none\" stroke=\"black\" points=\"661,-54.5 661,-90.5 \"/>\n",
       "<text text-anchor=\"middle\" x=\"701\" y=\"-68.8\" font-family=\"Times,serif\" font-size=\"14.00\">data 4.0000</text>\n",
       "<polyline fill=\"none\" stroke=\"black\" points=\"741,-54.5 741,-90.5 \"/>\n",
       "<text text-anchor=\"middle\" x=\"784\" y=\"-68.8\" font-family=\"Times,serif\" font-size=\"14.00\">grad &#45;2.0000</text>\n",
       "</g>\n",
       "<!-- 140383287250416&#45;&gt;140383287250368* -->\n",
       "<g id=\"edge9\" class=\"edge\">\n",
       "<title>140383287250416&#45;&gt;140383287250368*</title>\n",
       "<path fill=\"none\" stroke=\"black\" d=\"M827.1,-88.75C836.4,-90.37 845.38,-91.93 853.49,-93.33\"/>\n",
       "<polygon fill=\"black\" stroke=\"black\" points=\"853.14,-96.83 863.59,-95.09 854.34,-89.93 853.14,-96.83\"/>\n",
       "</g>\n",
       "<!-- 140383287250416+&#45;&gt;140383287250416 -->\n",
       "<g id=\"edge3\" class=\"edge\">\n",
       "<title>140383287250416+&#45;&gt;140383287250416</title>\n",
       "<path fill=\"none\" stroke=\"black\" d=\"M602.03,-72.5C609.66,-72.5 618.52,-72.5 627.94,-72.5\"/>\n",
       "<polygon fill=\"black\" stroke=\"black\" points=\"627.94,-76 637.94,-72.5 627.94,-69 627.94,-76\"/>\n",
       "</g>\n",
       "</g>\n",
       "</svg>\n"
      ],
      "text/plain": [
       "<graphviz.graphs.Digraph at 0x7fad87f80040>"
      ]
     },
     "execution_count": 63,
     "metadata": {},
     "output_type": "execute_result"
    }
   ],
   "source": [
    "draw_dot(L)"
   ]
  },
  {
   "cell_type": "code",
   "execution_count": 34,
   "id": "932e2d2d",
   "metadata": {},
   "outputs": [
    {
     "data": {
      "text/plain": [
       "-0.9999999999999964"
      ]
     },
     "execution_count": 34,
     "metadata": {},
     "output_type": "execute_result"
    }
   ],
   "source": [
    "\n"
   ]
  },
  {
   "cell_type": "code",
   "execution_count": 46,
   "id": "7543beda",
   "metadata": {},
   "outputs": [],
   "source": []
  },
  {
   "cell_type": "code",
   "execution_count": null,
   "id": "4338e9c4",
   "metadata": {},
   "outputs": [],
   "source": []
  }
 ],
 "metadata": {
  "kernelspec": {
   "display_name": "Python 3 (ipykernel)",
   "language": "python",
   "name": "python3"
  },
  "language_info": {
   "codemirror_mode": {
    "name": "ipython",
    "version": 3
   },
   "file_extension": ".py",
   "mimetype": "text/x-python",
   "name": "python",
   "nbconvert_exporter": "python",
   "pygments_lexer": "ipython3",
   "version": "3.9.13"
  }
 },
 "nbformat": 4,
 "nbformat_minor": 5
}
