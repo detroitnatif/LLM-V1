{
 "cells": [
  {
   "cell_type": "code",
   "execution_count": 105,
   "id": "ba344b79",
   "metadata": {},
   "outputs": [],
   "source": [
    "import torch\n",
    "import torch.nn.functional as F\n",
    "import matplotlib.pyplot as plt\n",
    "import numpy as np\n",
    "%matplotlib inline"
   ]
  },
  {
   "cell_type": "code",
   "execution_count": 106,
   "id": "e44b1708",
   "metadata": {},
   "outputs": [],
   "source": [
    "words = open('names.txt', 'r').read().splitlines()\n",
    "\n",
    "chars = sorted(list(set(''.join(words))))\n",
    "i2s = {p+1:l for p, l in enumerate(chars)}\n",
    "i2s[0] = '.'\n",
    "\n",
    "s2i = {}\n",
    "\n",
    "for i, l in i2s.items():\n",
    "    s2i[l] = i\n"
   ]
  },
  {
   "cell_type": "code",
   "execution_count": 107,
   "id": "f398a1d3",
   "metadata": {},
   "outputs": [],
   "source": [
    "block_size = 3\n",
    "\n",
    "def build_dataset(words):\n",
    "    X, Y = [], []\n",
    "    \n",
    "    for w in words:\n",
    "        context = [0] * block_size\n",
    "        for ch in w + '.':\n",
    "            ix = s2i[ch] \n",
    "            Y.append(ix)\n",
    "            X.append(context)\n",
    "            context = context[1:] + [ix]\n",
    "            \n",
    "    X = torch.tensor(X)\n",
    "    Y = torch.tensor(Y)\n",
    "    return X, Y\n",
    "\n",
    "import random\n",
    "random.seed(42)\n",
    "random.shuffle(words)\n",
    "\n",
    "n1 = int(.8*len(words))\n",
    "n2 = int(.9*len(words))\n",
    "\n",
    "Xtr, Ytr = build_dataset(words[:n1]) # train_words\n",
    "Xdev, Ydev = build_dataset(words[n1:n2]) # dev_words\n",
    "Xte, Yte = build_dataset(words[n2:]) # test_words\n",
    "\n"
   ]
  },
  {
   "cell_type": "code",
   "execution_count": 110,
   "id": "df21d57f",
   "metadata": {},
   "outputs": [
    {
     "name": "stdout",
     "output_type": "stream",
     "text": [
      "11897\n"
     ]
    }
   ],
   "source": [
    "neurons = 200\n",
    "dimensions = 10 # dimensionality of embedding vector \n",
    "vocab_size = 27 # amount of characters (or words)\n",
    "\n",
    "g2 = torch.Generator().manual_seed(214748364)\n",
    "\n",
    "C = torch.randn((vocab_size, dimensions), generator=g2) # 27 x n_embeddings this is a 2d vector of all the next possible characters\n",
    "\n",
    "W1 = torch.randn((block_size * dimensions, neurons), generator=g2) * (5/3) / ((block_size * dimensions) ** .5) # weights (block_size(3) x n_embeddings (10))  x N_neurons multplied by the kaiming_normal to keep gausian\n",
    "b1 = torch.randn(neurons, generator=g2)\n",
    "\n",
    "W2 = torch.randn((neurons,vocab_size), generator=g2) * .01 # creating second hidden layer which will take in the 100 transformed matrix and connect it to 27 output neurons\n",
    "b2 = torch.randn(vocab_size , generator = g2) * 0 # bias \n",
    "\n",
    "\n",
    "\n",
    "# BATCH_NORM PARAMS\n",
    "bngain = torch.ones((1, neurons))    # AVG GAIN TO MULT\n",
    "bnbias = torch.zeros((1, neurons))   # AVG BIAS TO ADD\n",
    "bnmean_running = torch.zeros((1, neurons))  \n",
    "bnstd_running = torch.ones((1, neurons))\n",
    "\n",
    "\n",
    "params = [C, W1, W2, b1, b2]\n",
    "num_params = sum(p.nelement() for p in params)\n",
    "print(num_params)"
   ]
  },
  {
   "cell_type": "code",
   "execution_count": 73,
   "id": "f45e1c0d",
   "metadata": {},
   "outputs": [],
   "source": [
    "samples = 1000\n",
    "neur = 200\n",
    "dims = 10\n",
    "\n",
    "x = torch.randn(samples, dims) # 1000 ten-dimensional samples\n",
    "w = torch.randn(dims, neur) # 200 neurons that take 10 dimension\n",
    "y = (x @ w ) * dims ** .5 # this preserves the std of x when transforming"
   ]
  },
  {
   "cell_type": "code",
   "execution_count": 114,
   "id": "13070582",
   "metadata": {},
   "outputs": [
    {
     "name": "stdout",
     "output_type": "stream",
     "text": [
      "tensor(1.9926, grad_fn=<NllLossBackward0>)\n"
     ]
    }
   ],
   "source": [
    "iters = 200\n",
    "lri = []\n",
    "lossi = []\n",
    "\n",
    "for p in params:\n",
    "    p.requires_grad = True\n",
    "\n",
    "for i in range(iters):\n",
    "    # Mini Sample\n",
    "    ix = torch.randint(0, Xtr.shape[0], (32,)) # this sample from 0 to size of X, batch size 32\n",
    "    \n",
    "    emb = C[Xtr[ix]]         # embed chars into vectors \n",
    "    embcat = emb.view(emb.shape[0], -1) # concat the vectors\n",
    "        \n",
    "    # CONVULTION (WEIGHT) LAYER\n",
    "    hpreact = embcat @ W1 + b1\n",
    "    \n",
    "    # BATCH NORM LAYER\n",
    "    bnmeani = hpreact.mean(0, keepdim=True)\n",
    "    bnstdi = hpreact.std(0, keepdim=True)\n",
    "    hpreact = (bngain * ((hpreact - bnmeani) / bnstdi)) + bnbias     \n",
    "    with torch.no_grad():\n",
    "        bnmean_running = .999 * bnmean_running + .001 * bnmeani\n",
    "        bnstd_running = .999 * bnstd_running + .001 * bnstdi\n",
    "\n",
    "    \n",
    "    # NON LINEARALITY LAYER\n",
    "    h = torch.tanh(hpreact)          \n",
    "    logits = h @ W2 + b2 # logits which are outputs\n",
    "    loss = F.cross_entropy(logits, Ytr[ix])\n",
    "    \n",
    "    \n",
    "    # counts = logits.exp()  OLD WAY TO CALCULATE LOSS ==> F.cross_entropy is better\n",
    "    # prob = counts / counts.sum(1, keepdim=True)\n",
    "    # loss = -prob[torch.arange(32), Y].log().mean() # this plucks the spot of probabilities following each Y\n",
    "    # print(loss)\n",
    "    # prob[0].sum()  == 1 #(normalized)\n",
    "    \n",
    "\n",
    "    # backward pass\n",
    "    for p in params:\n",
    "        p.grad = None\n",
    "\n",
    "    # BACK PROPOGATE\n",
    "    loss.backward()\n",
    "    \n",
    "    \n",
    "    lr = .1 # using minimum found on the graph\n",
    "    for p in params:\n",
    "        p.data += -lr * p.grad\n",
    "        \n",
    "    # track stats\n",
    "    lossi.append(loss.item())\n",
    "    final = loss\n",
    "\n",
    "x_plot = torch.arange(iters)\n",
    "# plt.plot(x_plot, lossi)\n",
    "print(final)"
   ]
  },
  {
   "cell_type": "code",
   "execution_count": 65,
   "id": "b1e374a6",
   "metadata": {},
   "outputs": [
    {
     "data": {
      "text/plain": [
       "torch.Size([200])"
      ]
     },
     "execution_count": 65,
     "metadata": {},
     "output_type": "execute_result"
    }
   ],
   "source": [
    "# m = hpreact.mean(0, keepdim=True)\n",
    "# s = hpreact.std(0, keepdim=True)\n",
    "\n",
    "with torch.no_grad:\n",
    "    emb = C[Xtr]\n",
    "    embcat = emb.view(emb.shape[0], -1)\n",
    "    hpreact = embcat @ W1 + b1\n",
    "    bnmean = hpreact.mean(0, keepdim=True)\n",
    "    bnstd = hpreact.std(0, keepdim=True)"
   ]
  },
  {
   "cell_type": "code",
   "execution_count": 112,
   "id": "b49bc938",
   "metadata": {},
   "outputs": [
    {
     "name": "stdout",
     "output_type": "stream",
     "text": [
      "kolaryam.\n",
      "orhhgeddry\n",
      "roreicrlik\n",
      "jarraryfey\n",
      "rdranalitr\n",
      "jerfdodchn\n",
      "cmiro.\n",
      "ddrychore.\n",
      "cerrelcchr\n",
      "rterhfkryl\n",
      "czrrstetra\n",
      "carderalyr\n",
      "kertyfrarr\n",
      "gaz.\n",
      "qqemirynzs\n",
      "klonayssev\n",
      "saggymcaly\n",
      "crmortshpr\n",
      "gangeodii.\n",
      "porram.\n"
     ]
    }
   ],
   "source": [
    "# sample from the model\n",
    "g = torch.Generator().manual_seed(214748364 + 2)\n",
    "\n",
    "for _ in range(20):\n",
    "    \n",
    "    out = []\n",
    "    context = [0] * block_size # initialize with all ...\n",
    "    count = 0\n",
    "    while True:\n",
    "        emb = C[torch.tensor([context])] # (1,block_size,d)\n",
    "        embcat = emb.view(emb.shape[0], -1)\n",
    "        hpreact = embcat @ W1 + b1\n",
    "        h = torch.tanh(hpreact) \n",
    "        logits = h @ W2 + b2\n",
    "        probs = F.softmax(logits, dim=1)\n",
    "        ix = torch.multinomial(probs, num_samples=1, generator=g).item()\n",
    "        context = context[1:] + [ix]\n",
    "        out.append(ix)\n",
    "        count +=1 \n",
    "        if ix == 0:\n",
    "            break\n",
    "        if count == 10:\n",
    "            break\n",
    "    \n",
    "    print(''.join(i2s[i] for i in out))"
   ]
  },
  {
   "cell_type": "code",
   "execution_count": 115,
   "id": "74614261",
   "metadata": {},
   "outputs": [
    {
     "data": {
      "text/plain": [
       "<matplotlib.image.AxesImage at 0x7fe066828250>"
      ]
     },
     "execution_count": 115,
     "metadata": {},
     "output_type": "execute_result"
    },
    {
     "data": {
      "image/png": "[encoded data removed]",
      "text/plain": [
       "<Figure size 2000x1000 with 1 Axes>"
      ]
     },
     "metadata": {},
     "output_type": "display_data"
    }
   ],
   "source": [
    "plt.figure(figsize=(20,10))\n",
    "plt.imshow(h.abs() > .99, cmap='gray', interpolation='nearest')\n",
    "# this must be a small number or plot wont work\n",
    "# this graph shows black if the neuron is being trained and white if it was too close to -1, 1 and tanh function removed it."
   ]
  },
  {
   "cell_type": "code",
   "execution_count": 84,
   "id": "059d2ef0",
   "metadata": {},
   "outputs": [
    {
     "data": {
      "image/png": "[encoded data removed]",
      "text/plain": [
       "<Figure size 640x480 with 1 Axes>"
      ]
     },
     "metadata": {},
     "output_type": "display_data"
    }
   ],
   "source": [
    "plt.hist(h.view(-1).tolist(), 50);"
   ]
  },
  {
   "cell_type": "code",
   "execution_count": null,
   "id": "8c80a06c",
   "metadata": {},
   "outputs": [],
   "source": []
  }
 ],
 "metadata": {
  "kernelspec": {
   "display_name": "Python 3 (ipykernel)",
   "language": "python",
   "name": "python3"
  },
  "language_info": {
   "codemirror_mode": {
    "name": "ipython",
    "version": 3
   },
   "file_extension": ".py",
   "mimetype": "text/x-python",
   "name": "python",
   "nbconvert_exporter": "python",
   "pygments_lexer": "ipython3",
   "version": "3.9.13"
  }
 },
 "nbformat": 4,
 "nbformat_minor": 5
}
