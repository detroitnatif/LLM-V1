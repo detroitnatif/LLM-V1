{
 "cells": [
  {
   "cell_type": "code",
   "execution_count": 10,
   "id": "1673520d",
   "metadata": {},
   "outputs": [],
   "source": [
    "import torch\n",
    "import torch.nn.functional as F\n",
    "import matplotlib.pyplot as plt\n",
    "import numpy as np\n",
    "%matplotlib inline"
   ]
  },
  {
   "cell_type": "code",
   "execution_count": 11,
   "id": "6e2d6379",
   "metadata": {},
   "outputs": [],
   "source": [
    "words = open('names.txt', 'r').read().splitlines()\n",
    "\n",
    "chars = sorted(list(set(''.join(words))))\n",
    "i2s = {p+1:l for p, l in enumerate(chars)}\n",
    "i2s[0] = '.'\n",
    "\n",
    "s2i = {}\n",
    "\n",
    "for i, l in i2s.items():\n",
    "    s2i[l] = i\n"
   ]
  },
  {
   "cell_type": "code",
   "execution_count": 12,
   "id": "858211cb",
   "metadata": {},
   "outputs": [],
   "source": [
    "block_size = 3\n",
    "\n",
    "def build_dataset(words):\n",
    "    X, Y = [], []\n",
    "    \n",
    "    for w in words:\n",
    "        context = [0] * block_size\n",
    "        for ch in w + '.':\n",
    "            ix = s2i[ch] \n",
    "            Y.append(ix)\n",
    "            X.append(context)\n",
    "            context = context[1:] + [ix]\n",
    "            \n",
    "    X = torch.tensor(X)\n",
    "    Y = torch.tensor(Y)\n",
    "    return X, Y\n",
    "\n",
    "import random\n",
    "random.seed(42)\n",
    "random.shuffle(words)\n",
    "\n",
    "n1 = int(.8*len(words))\n",
    "n2 = int(.9*len(words))\n",
    "\n",
    "Xtr, Ytr = build_dataset(words[:n1]) # train_words\n",
    "Xdev, Ydev = build_dataset(words[n1:n2]) # dev_words\n",
    "Xte, Yte = build_dataset(words[n2:]) # test_words\n",
    "\n"
   ]
  },
  {
   "cell_type": "code",
   "execution_count": 13,
   "id": "c4fb92f7",
   "metadata": {},
   "outputs": [
    {
     "name": "stdout",
     "output_type": "stream",
     "text": [
      "11897\n"
     ]
    }
   ],
   "source": [
    "g2 = torch.Generator().manual_seed(214748364)\n",
    "\n",
    "\n",
    "\n",
    "\n",
    "neurons = 200\n",
    "dimensions = 10 # dimensionality of embedding vector \n",
    "vocab_size = 27 # amount of characters (or words)\n",
    "C = torch.randn((vocab_size, dimensions), generator=g2) # 27 x n_embeddings this is a 2d vector of all the next possible characters\n",
    "W1 = torch.randn((block_size * dimensions, neurons), generator=g2) * (5/3) / ((block_size * dimensions) ** .5) # weights (block_size(3) x n_embeddings (10))  x N_neurons multplied by the kaiming_normal to keep gausian\n",
    "b1 = torch.randn(neurons, generator=g2)\n",
    "W2 = torch.randn((neurons,vocab_size), generator=g2) * .01 # creating second hidden layer which will take in the 100 transformed matrix and connect it to 27 output neurons\n",
    "b2 = torch.randn(vocab_size , generator = g2) * 0 # bias \n",
    "\n",
    "\n",
    "\n",
    "# BATCH_NORM PARAMS\n",
    "bngain = torch.ones((1, neurons))    # AVG GAIN TO MULT\n",
    "bnbias = torch.zeros((1, neurons))   # AVG BIAS TO ADD\n",
    "bnmean_running = torch.zeros((1, neurons))  \n",
    "bnstd_running = torch.ones((1, neurons))\n",
    "\n",
    "\n",
    "params = [C, W1, W2, b1, b2]\n",
    "num_params = sum(p.nelement() for p in params)\n",
    "print(num_params)"
   ]
  },
  {
   "cell_type": "code",
   "execution_count": 14,
   "id": "80fa03c8",
   "metadata": {},
   "outputs": [],
   "source": [
    "samples = 200\n",
    "neur = 200\n",
    "dims = 10\n",
    "\n",
    "x = torch.randn(samples, dims) # 1000 ten-dimensional samples\n",
    "w = torch.randn(dims, neur) # 200 neurons that take 10 dimension\n",
    "y = (x @ w ) * dims ** .5 # this preserves the std of x when transforming"
   ]
  },
  {
   "cell_type": "code",
   "execution_count": 19,
   "id": "c3a8aaaf",
   "metadata": {},
   "outputs": [
    {
     "name": "stdout",
     "output_type": "stream",
     "text": [
      "tensor(2.5557, grad_fn=<NllLossBackward0>)\n"
     ]
    }
   ],
   "source": [
    "iters = 100\n",
    "lri = []\n",
    "lossi = []\n",
    "\n",
    "for p in params:\n",
    "    p.requires_grad = True\n",
    "\n",
    "for i in range(iters):\n",
    "    # Mini Sample\n",
    "    ix = torch.randint(0, Xtr.shape[0], (32,)) # this sample from 0 to size of X, batch size 32\n",
    "    \n",
    "    emb = C[Xtr[ix]]         # embed chars into vectors \n",
    "    embcat = emb.view(emb.shape[0], -1) # concat the vectors\n",
    "        \n",
    "    # CONVULTION (WEIGHT) LAYER\n",
    "    hpreact = embcat @ W1 + b1\n",
    "    \n",
    "    # BATCH NORM LAYER\n",
    "    bnmeani = hpreact.mean(0, keepdim=True)\n",
    "    bnstdi = hpreact.std(0, keepdim=True)\n",
    "    hpreact = (bngain * ((hpreact - bnmeani) / bnstdi)) + bnbias     \n",
    "    with torch.no_grad():\n",
    "        bnmean_running = .999 * bnmean_running + .001 * bnmeani\n",
    "        bnstd_running = .999 * bnstd_running + .001 * bnstdi\n",
    "\n",
    "    \n",
    "    # NON LINEARALITY LAYER\n",
    "    h = torch.tanh(hpreact)          \n",
    "    logits = h @ W2 + b2 # logits which are outputs\n",
    "    loss = F.cross_entropy(logits, Ytr[ix])\n",
    "    \n",
    "    \n",
    "    # counts = logits.exp()  OLD WAY TO CALCULATE LOSS ==> F.cross_entropy is better\n",
    "    # prob = counts / counts.sum(1, keepdim=True)\n",
    "    # loss = -prob[torch.arange(32), Y].log().mean() # this plucks the spot of probabilities following each Y\n",
    "    # print(loss)\n",
    "    # prob[0].sum()  == 1 #(normalized)\n",
    "    \n",
    "\n",
    "    # backward pass\n",
    "    for p in params:\n",
    "        p.grad = None\n",
    "\n",
    "    # BACK PROPOGATE\n",
    "    loss.backward()\n",
    "    \n",
    "    \n",
    "    lr = .1 # using minimum found on the graph\n",
    "    for p in params:\n",
    "        p.data += -lr * p.grad\n",
    "        \n",
    "    # track stats\n",
    "    lossi.append(loss.item())\n",
    "    final = loss\n",
    "\n",
    "x_plot = torch.arange(iters)\n",
    "# plt.plot(x_plot, lossi)\n",
    "print(final)"
   ]
  },
  {
   "cell_type": "code",
   "execution_count": 20,
   "id": "fe6b5b7b",
   "metadata": {},
   "outputs": [
    {
     "ename": "AttributeError",
     "evalue": "__enter__",
     "output_type": "error",
     "traceback": [
      "\u001b[0;31m---------------------------------------------------------------------------\u001b[0m",
      "\u001b[0;31mAttributeError\u001b[0m                            Traceback (most recent call last)",
      "Input \u001b[0;32mIn [20]\u001b[0m, in \u001b[0;36m<cell line: 4>\u001b[0;34m()\u001b[0m\n\u001b[1;32m      1\u001b[0m \u001b[38;5;66;03m# m = hpreact.mean(0, keepdim=True)\u001b[39;00m\n\u001b[1;32m      2\u001b[0m \u001b[38;5;66;03m# s = hpreact.std(0, keepdim=True)\u001b[39;00m\n\u001b[0;32m----> 4\u001b[0m \u001b[38;5;28;01mwith\u001b[39;00m torch\u001b[38;5;241m.\u001b[39mno_grad:\n\u001b[1;32m      5\u001b[0m     emb \u001b[38;5;241m=\u001b[39m C[Xtr]\n\u001b[1;32m      6\u001b[0m     embcat \u001b[38;5;241m=\u001b[39m emb\u001b[38;5;241m.\u001b[39mview(emb\u001b[38;5;241m.\u001b[39mshape[\u001b[38;5;241m0\u001b[39m], \u001b[38;5;241m-\u001b[39m\u001b[38;5;241m1\u001b[39m)\n",
      "\u001b[0;31mAttributeError\u001b[0m: __enter__"
     ]
    }
   ],
   "source": [
    "# m = hpreact.mean(0, keepdim=True)\n",
    "# s = hpreact.std(0, keepdim=True)\n",
    "\n",
    "with torch.no_grad:\n",
    "    emb = C[Xtr]\n",
    "    embcat = emb.view(emb.shape[0], -1)\n",
    "    hpreact = embcat @ W1 + b1\n",
    "    bnmean = hpreact.mean(0, keepdim=True)\n",
    "    bnstd = hpreact.std(0, keepdim=True)"
   ]
  },
  {
   "cell_type": "code",
   "execution_count": 21,
   "id": "41a17f34",
   "metadata": {},
   "outputs": [
    {
     "name": "stdout",
     "output_type": "stream",
     "text": [
      "dol.\n",
      "myem.\n",
      "ohhhgem.\n",
      "meroreiss.\n",
      "kvyshaayyf\n",
      "werdiah.\n",
      "tptrieofql\n",
      "dmhnemihjy\n",
      "dubilaohe.\n",
      "meu.\n",
      "slochardeh\n",
      "hfkimilpjr\n",
      "simee.\n",
      "uardeohadc\n",
      "hartyfzarr\n",
      "gaz.\n",
      "qqmoinlies\n",
      "khonayxslv\n",
      "sa.\n",
      "lym.\n"
     ]
    }
   ],
   "source": [
    "# sample from the model\n",
    "g = torch.Generator().manual_seed(214748364 + 2)\n",
    "\n",
    "for _ in range(20):\n",
    "    \n",
    "    out = []\n",
    "    context = [0] * block_size # initialize with all ...\n",
    "    count = 0\n",
    "    while True:\n",
    "        emb = C[torch.tensor([context])] # (1,block_size,d)\n",
    "        embcat = emb.view(emb.shape[0], -1)\n",
    "        hpreact = embcat @ W1 + b1\n",
    "        h = torch.tanh(hpreact) \n",
    "        logits = h @ W2 + b2\n",
    "        probs = F.softmax(logits, dim=1)\n",
    "        ix = torch.multinomial(probs, num_samples=1, generator=g).item()\n",
    "        context = context[1:] + [ix]\n",
    "        out.append(ix)\n",
    "        count +=1 \n",
    "        if ix == 0:\n",
    "            break\n",
    "        if count == 10:\n",
    "            break\n",
    "    \n",
    "    print(''.join(i2s[i] for i in out))"
   ]
  },
  {
   "cell_type": "code",
   "execution_count": 22,
   "id": "3e601236",
   "metadata": {},
   "outputs": [
    {
     "data": {
      "text/plain": [
       "<matplotlib.image.AxesImage at 0x7f94e208e280>"
      ]
     },
     "execution_count": 22,
     "metadata": {},
     "output_type": "execute_result"
    },
    {
     "data": {
      "image/png": "[encoded data removed]",
      "text/plain": [
       "<Figure size 2000x1000 with 1 Axes>"
      ]
     },
     "metadata": {},
     "output_type": "display_data"
    }
   ],
   "source": [
    "plt.figure(figsize=(20,10))\n",
    "plt.imshow(h.abs() > .99, cmap='gray', interpolation='nearest')\n",
    "# this must be a small number or plot wont work\n",
    "# this graph shows black if the neuron is being trained and white if it was too close to -1, 1 and tanh function removed it."
   ]
  },
  {
   "cell_type": "code",
   "execution_count": null,
   "id": "c5f16379",
   "metadata": {},
   "outputs": [],
   "source": [
    "plt.hist(h.view(-1).tolist(), 50);"
   ]
  },
  {
   "cell_type": "code",
   "execution_count": null,
   "id": "2e3335ee",
   "metadata": {},
   "outputs": [],
   "source": []
  }
 ],
 "metadata": {
  "kernelspec": {
   "display_name": "Python 3 (ipykernel)",
   "language": "python",
   "name": "python3"
  },
  "language_info": {
   "codemirror_mode": {
    "name": "ipython",
    "version": 3
   },
   "file_extension": ".py",
   "mimetype": "text/x-python",
   "name": "python",
   "nbconvert_exporter": "python",
   "pygments_lexer": "ipython3",
   "version": "3.9.13"
  }
 },
 "nbformat": 4,
 "nbformat_minor": 5
}
