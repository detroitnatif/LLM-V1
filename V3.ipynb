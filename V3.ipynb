{
 "cells": [
  {
   "cell_type": "code",
   "execution_count": 13,
   "id": "274d6e4d",
   "metadata": {},
   "outputs": [],
   "source": [
    "import torch\n",
    "import torch.nn.functional as F\n",
    "import matplotlib.pyplot as plt\n",
    "%matplotlib inline"
   ]
  },
  {
   "cell_type": "code",
   "execution_count": 14,
   "id": "4c67c794",
   "metadata": {},
   "outputs": [
    {
     "data": {
      "text/plain": [
       "['emma', 'olivia', 'ava', 'isabella', 'sophia']"
      ]
     },
     "execution_count": 14,
     "metadata": {},
     "output_type": "execute_result"
    }
   ],
   "source": [
    "words = open('names.txt', 'r').read().splitlines()\n",
    "words[:5]"
   ]
  },
  {
   "cell_type": "code",
   "execution_count": 15,
   "id": "b65b3815",
   "metadata": {},
   "outputs": [],
   "source": [
    "chars = sorted(list(set(''.join(words))))\n",
    "i2s = {p+1:l for p, l in enumerate(chars)}\n",
    "i2s[0] = '.'\n",
    "\n",
    "s2i = {}\n",
    "\n",
    "for i, l in i2s.items():\n",
    "    s2i[l] = i\n",
    "\n",
    "# s2i = {s:i for i, s in i2s.items()} same thing one line\n",
    "\n",
    "    \n"
   ]
  },
  {
   "cell_type": "code",
   "execution_count": 16,
   "id": "c98ea3ee",
   "metadata": {},
   "outputs": [
    {
     "name": "stdout",
     "output_type": "stream",
     "text": [
      "emma\n",
      "... ---> e\n",
      "emma\n",
      "..e ---> m\n",
      "emma\n",
      ".em ---> m\n",
      "emma\n",
      "emm ---> a\n",
      "emma\n",
      "mma ---> .\n",
      "olivia\n",
      "... ---> o\n",
      "olivia\n",
      "..o ---> l\n",
      "olivia\n",
      ".ol ---> i\n",
      "olivia\n",
      "oli ---> v\n",
      "olivia\n",
      "liv ---> i\n",
      "olivia\n",
      "ivi ---> a\n",
      "olivia\n",
      "via ---> .\n",
      "ava\n",
      "... ---> a\n",
      "ava\n",
      "..a ---> v\n",
      "ava\n",
      ".av ---> a\n",
      "ava\n",
      "ava ---> .\n",
      "isabella\n",
      "... ---> i\n",
      "isabella\n",
      "..i ---> s\n",
      "isabella\n",
      ".is ---> a\n",
      "isabella\n",
      "isa ---> b\n",
      "isabella\n",
      "sab ---> e\n",
      "isabella\n",
      "abe ---> l\n",
      "isabella\n",
      "bel ---> l\n",
      "isabella\n",
      "ell ---> a\n",
      "isabella\n",
      "lla ---> .\n",
      "sophia\n",
      "... ---> s\n",
      "sophia\n",
      "..s ---> o\n",
      "sophia\n",
      ".so ---> p\n",
      "sophia\n",
      "sop ---> h\n",
      "sophia\n",
      "oph ---> i\n",
      "sophia\n",
      "phi ---> a\n",
      "sophia\n",
      "hia ---> .\n"
     ]
    }
   ],
   "source": [
    "block_size = 3\n",
    "X, Y = [], [] # X is input, Y is labels\n",
    "for w in words[:5]:\n",
    "    \n",
    "    context = [0] * block_size\n",
    "    for ch in w + '.':\n",
    "        print(w)\n",
    "        ix = s2i[ch]\n",
    "        X.append(context) # current running context\n",
    "        Y.append(ix)\n",
    "        print(''.join(i2s[i] for i in context), '--->', i2s[ix])\n",
    "        context = context[1:] + [ix] # move it up one \n",
    "        \n",
    "X = torch.tensor(X) # [n, 3] 3 leading characters of however many inputs\n",
    "Y = torch.tensor(Y)  # [n] this is the next letter after the 3, and what we are trying to predict "
   ]
  },
  {
   "cell_type": "code",
   "execution_count": 5,
   "id": "db94b969",
   "metadata": {},
   "outputs": [
    {
     "data": {
      "text/plain": [
       "torch.Size([32, 3, 2])"
      ]
     },
     "execution_count": 5,
     "metadata": {},
     "output_type": "execute_result"
    }
   ],
   "source": [
    "g2 = torch.Generator().manual_seed(214748364)\n",
    "\n",
    "C = torch.randn((27, 2), generator=g2) # 27 x 2\n",
    "V = F.one_hot(torch.tensor(5), num_classes=27).float() # 27 x 1\n",
    "A = V @ C\n",
    "emb = C[X]\n",
    "emb.shape   # 3 arrays of [32, 2]"
   ]
  },
  {
   "cell_type": "code",
   "execution_count": 6,
   "id": "124e22d4",
   "metadata": {},
   "outputs": [
    {
     "name": "stdout",
     "output_type": "stream",
     "text": [
      "torch.Size([32, 3])\n",
      "torch.Size([32, 3, 2])\n",
      "tensor([-0.7303,  1.1832])\n",
      "tensor([-0.7303,  1.1832])\n"
     ]
    }
   ],
   "source": [
    "# PyTorch Indexing\n",
    "\n",
    "print(X.shape)\n",
    "print(C[X].shape)\n",
    "print(C[X][13,2])\n",
    "print(C[1])"
   ]
  },
  {
   "cell_type": "code",
   "execution_count": 7,
   "id": "d9145a41",
   "metadata": {},
   "outputs": [],
   "source": [
    "# Creating first hidden layer of neurons\n",
    "\n",
    "W1 = torch.randn((6, 100), generator=g2)\n",
    "b1 = torch.randn(100, generator=g2)\n",
    "\n",
    "# we want to do eeb @ W1 + b1 but because of dimensions wont work"
   ]
  },
  {
   "cell_type": "code",
   "execution_count": 8,
   "id": "21baeb67",
   "metadata": {},
   "outputs": [
    {
     "data": {
      "text/plain": [
       "torch.Size([32, 6])"
      ]
     },
     "execution_count": 8,
     "metadata": {},
     "output_type": "execute_result"
    }
   ],
   "source": [
    "# Concatenate all the pieces of embedded matrix, which is the weights at each place of letter in matrix X\n",
    "# N = torch.cat((emb[:, 0, :], emb[:, 1], emb[:, 2]), 1)\n",
    "# N.shape     These lines do the same thing, but below is more flexible at \n",
    "\n",
    "Z = torch.cat(torch.unbind(emb, 1), 1)\n",
    "Z.shape"
   ]
  },
  {
   "cell_type": "code",
   "execution_count": 9,
   "id": "fd235e3c",
   "metadata": {},
   "outputs": [
    {
     "data": {
      "text/plain": [
       "torch.Size([32, 6])"
      ]
     },
     "execution_count": 9,
     "metadata": {},
     "output_type": "execute_result"
    }
   ],
   "source": [
    "Z = torch.cat(torch.unbind(emb, 1), 1) # uneffiecent and creates lots of memory\n",
    "Z.shape\n",
    "\n",
    "# Q = torch.unbind(emb, 1)  this breaks the [32, 3, 2] matrix into a tuple of 3 [32, 2] arrays\n",
    "# Q[0].shape "
   ]
  },
  {
   "cell_type": "code",
   "execution_count": 10,
   "id": "f5a91e0c",
   "metadata": {},
   "outputs": [
    {
     "name": "stdout",
     "output_type": "stream",
     "text": [
      "torch.Size([18])\n"
     ]
    },
    {
     "data": {
      "text/plain": [
       "tensor([[[ 0,  1],\n",
       "         [ 2,  3],\n",
       "         [ 4,  5]],\n",
       "\n",
       "        [[ 6,  7],\n",
       "         [ 8,  9],\n",
       "         [10, 11]],\n",
       "\n",
       "        [[12, 13],\n",
       "         [14, 15],\n",
       "         [16, 17]]])"
      ]
     },
     "execution_count": 10,
     "metadata": {},
     "output_type": "execute_result"
    }
   ],
   "source": [
    "## practice with a.view\n",
    "\n",
    "a = torch.arange(18)\n",
    "print(a.shape)\n",
    "a.view(3,3,2) # must multiply to same numbers"
   ]
  },
  {
   "cell_type": "code",
   "execution_count": 11,
   "id": "8ecb9165",
   "metadata": {},
   "outputs": [
    {
     "data": {
      "text/plain": [
       "tensor([[-0.7437,  0.9111,  0.4172,  ..., -0.8906,  0.0780, -0.1556],\n",
       "        [-0.9579,  0.9981,  0.9558,  ..., -0.7515,  0.7401,  0.9818],\n",
       "        [ 0.5338,  0.9274,  0.1247,  ...,  0.9116,  0.4257,  0.8823],\n",
       "        ...,\n",
       "        [-0.9653,  0.9928,  0.9868,  ...,  0.8227, -0.8342,  0.9816],\n",
       "        [-0.4200,  0.9607,  0.2070,  ...,  0.8971,  0.9916,  0.2514],\n",
       "        [-0.9407,  0.9780, -0.9071,  ...,  0.9787, -0.9759, -0.2924]])"
      ]
     },
     "execution_count": 11,
     "metadata": {},
     "output_type": "execute_result"
    }
   ],
   "source": [
    "h = torch.tanh(emb.view(-1, 6) @ W1 + b1) # this is creating a \n",
    "h"
   ]
  },
  {
   "cell_type": "code",
   "execution_count": null,
   "id": "ef22d8ce",
   "metadata": {},
   "outputs": [],
   "source": []
  },
  {
   "cell_type": "code",
   "execution_count": 48,
   "id": "4bd80f55",
   "metadata": {},
   "outputs": [
    {
     "data": {
      "text/plain": [
       "tensor(0.1483)"
      ]
     },
     "execution_count": 48,
     "metadata": {},
     "output_type": "execute_result"
    }
   ],
   "source": [
    "lre = torch.linspace(-3, 0, 1000)\n",
    "lrs = 10**lre\n"
   ]
  },
  {
   "cell_type": "code",
   "execution_count": 57,
   "id": "760379c5",
   "metadata": {},
   "outputs": [],
   "source": [
    "g2 = torch.Generator().manual_seed(214748364)\n",
    "\n",
    "C = torch.randn((27, 2), generator=g2) # 27 x 2 this is a 2d vector of all the next possible characters\n",
    "\n",
    "W1 = torch.randn((6, 100), generator=g2) # weights 6 x 100 because it takes \n",
    "b1 = torch.randn(100, generator=g2)\n",
    "\n",
    "W2 = torch.randn((100,27), generator=g2) # creating second hidden layer which will take in the 100 transformed matrix and connect it to 27 output neurons\n",
    "b2 = torch.randn((27) , generator = g2) # bias \n",
    "\n",
    "\n",
    "params = [C, W1, W2, b1, b2]\n",
    "num_params = sum(p.nelement() for p in params)"
   ]
  },
  {
   "cell_type": "code",
   "execution_count": 61,
   "id": "8d6b69d8",
   "metadata": {},
   "outputs": [],
   "source": [
    "lri = []\n",
    "lossi = []\n",
    "\n",
    "for p in params:\n",
    "    p.requires_grad = True\n",
    "\n",
    "for i in range(1000):\n",
    "    # Mini Sample\n",
    "    ix = torch.randint(0, X.shape[0], (32,)) # this is a sample from 0 to size of X\n",
    "\n",
    "    emb = C[X[ix]]\n",
    "    h = torch.tanh(emb.view(-1, 6) @ W1 + b1)\n",
    "    logits = h @ W2 + b2 # logits which are outputs\n",
    "    loss = F.cross_entropy(logits, Y[ix])\n",
    "    \n",
    "    # counts = logits.exp()  OLD WAY TO CALCULATE LOSS ==> F.cross_entropy is better\n",
    "    # prob = counts / counts.sum(1, keepdim=True)\n",
    "    # loss = -prob[torch.arange(32), Y].log().mean() # this plucks the spot of probabilities following each Y\n",
    "    # print(loss)\n",
    "    # prob[0].sum()  == 1 #(normalized)\n",
    "\n",
    "    # backward pass\n",
    "    for p in params:\n",
    "        p.grad = None\n",
    "\n",
    "    # BACK PROPOGATE\n",
    "    loss.backward()\n",
    "    \n",
    "    \n",
    "    lr = lrs[i]\n",
    "    for p in params:\n",
    "        p.data += -lr * p.grad\n",
    "        \n",
    "    # track stats\n",
    "    lri.append(lre[i])\n",
    "    lossi.append(loss.item())\n",
    "    "
   ]
  },
  {
   "cell_type": "code",
   "execution_count": 62,
   "id": "d1463124",
   "metadata": {},
   "outputs": [
    {
     "data": {
      "text/plain": [
       "[<matplotlib.lines.Line2D at 0x7ffd3bd50dc0>]"
      ]
     },
     "execution_count": 62,
     "metadata": {},
     "output_type": "execute_result"
    },
    {
     "data": {
      "image/png": "[encoded data removed]",
      "text/plain": [
       "<Figure size 640x480 with 1 Axes>"
      ]
     },
     "metadata": {},
     "output_type": "display_data"
    }
   ],
   "source": [
    "plt.plot(lri, lossi)"
   ]
  },
  {
   "cell_type": "code",
   "execution_count": null,
   "id": "2be9f13f",
   "metadata": {},
   "outputs": [],
   "source": []
  }
 ],
 "metadata": {
  "kernelspec": {
   "display_name": "Python 3 (ipykernel)",
   "language": "python",
   "name": "python3"
  },
  "language_info": {
   "codemirror_mode": {
    "name": "ipython",
    "version": 3
   },
   "file_extension": ".py",
   "mimetype": "text/x-python",
   "name": "python",
   "nbconvert_exporter": "python",
   "pygments_lexer": "ipython3",
   "version": "3.9.13"
  }
 },
 "nbformat": 4,
 "nbformat_minor": 5
}
