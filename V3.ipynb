{
 "cells": [
  {
   "cell_type": "code",
   "execution_count": 44,
   "id": "274d6e4d",
   "metadata": {},
   "outputs": [],
   "source": [
    "import torch\n",
    "import torch.nn.functional as F\n",
    "import matplotlib.pyplot as plt\n",
    "import numpy as np\n",
    "%matplotlib inline"
   ]
  },
  {
   "cell_type": "code",
   "execution_count": 45,
   "id": "4c67c794",
   "metadata": {},
   "outputs": [],
   "source": [
    "words = open('names.txt', 'r').read().splitlines()\n",
    "# train_words = words[:25000]     WORDS CUT INTO 80/10/10\n",
    "# dev_words = words[25001: 28000]\n",
    "# test_words = words[28001: 32033]\n"
   ]
  },
  {
   "cell_type": "code",
   "execution_count": 46,
   "id": "b65b3815",
   "metadata": {},
   "outputs": [],
   "source": [
    "chars = sorted(list(set(''.join(words))))\n",
    "i2s = {p+1:l for p, l in enumerate(chars)}\n",
    "i2s[0] = '.'\n",
    "\n",
    "s2i = {}\n",
    "\n",
    "for i, l in i2s.items():\n",
    "    s2i[l] = i\n",
    "\n",
    "# s2i = {s:i for i, s in i2s.items()} same thing one line\n",
    "\n",
    "    \n"
   ]
  },
  {
   "cell_type": "code",
   "execution_count": 47,
   "id": "c98ea3ee",
   "metadata": {},
   "outputs": [
    {
     "name": "stdout",
     "output_type": "stream",
     "text": [
      "emma\n",
      "... ---> e\n",
      "emma\n",
      "..e ---> m\n",
      "emma\n",
      ".em ---> m\n",
      "emma\n",
      "emm ---> a\n",
      "emma\n",
      "mma ---> .\n",
      "olivia\n",
      "... ---> o\n",
      "olivia\n",
      "..o ---> l\n",
      "olivia\n",
      ".ol ---> i\n",
      "olivia\n",
      "oli ---> v\n",
      "olivia\n",
      "liv ---> i\n",
      "olivia\n",
      "ivi ---> a\n",
      "olivia\n",
      "via ---> .\n"
     ]
    }
   ],
   "source": [
    "block_size = 3\n",
    "X, Y = [], [] # X is input, Y is labels\n",
    "for w in words[:2]:\n",
    "    \n",
    "    context = [0] * block_size\n",
    "    for ch in w + '.':\n",
    "        print(w)\n",
    "        ix = s2i[ch]\n",
    "        X.append(context) # current running context\n",
    "        Y.append(ix)\n",
    "        print(''.join(i2s[i] for i in context), '--->', i2s[ix])\n",
    "        context = context[1:] + [ix] # move it up one \n",
    "        \n",
    "X = torch.tensor(X) # [n, 3] 3 leading characters of however many inputs\n",
    "Y = torch.tensor(Y)  # [n] this is the next letter after the 3, and what we are trying to predict "
   ]
  },
  {
   "cell_type": "code",
   "execution_count": 48,
   "id": "db94b969",
   "metadata": {},
   "outputs": [
    {
     "data": {
      "text/plain": [
       "torch.Size([12, 3, 2])"
      ]
     },
     "execution_count": 48,
     "metadata": {},
     "output_type": "execute_result"
    }
   ],
   "source": [
    "g2 = torch.Generator().manual_seed(214748364)\n",
    "\n",
    "C = torch.randn((27, 2), generator=g2) # 27 x 2\n",
    "V = F.one_hot(torch.tensor(5), num_classes=27).float() # 27 x 1\n",
    "A = V @ C\n",
    "emb = C[X]\n",
    "emb.shape   # 3 arrays of [32, 2]"
   ]
  },
  {
   "cell_type": "code",
   "execution_count": 72,
   "id": "124e22d4",
   "metadata": {},
   "outputs": [
    {
     "name": "stdout",
     "output_type": "stream",
     "text": [
      "torch.Size([32, 3])\n",
      "torch.Size([32, 3, 2])\n",
      "tensor([-0.7303,  1.1832])\n",
      "tensor([-0.7303,  1.1832])\n"
     ]
    }
   ],
   "source": [
    "# PyTorch Indexing\n",
    "\n",
    "print(X.shape)\n",
    "print(C[X].shape)\n",
    "print(C[X][13,2])\n",
    "print(C[1])"
   ]
  },
  {
   "cell_type": "code",
   "execution_count": 73,
   "id": "d9145a41",
   "metadata": {},
   "outputs": [],
   "source": [
    "# Creating first hidden layer of neurons\n",
    "\n",
    "W1 = torch.randn((6, 100), generator=g2)\n",
    "b1 = torch.randn(100, generator=g2)\n",
    "\n",
    "# we want to do eeb @ W1 + b1 but because of dimensions wont work"
   ]
  },
  {
   "cell_type": "code",
   "execution_count": 74,
   "id": "21baeb67",
   "metadata": {},
   "outputs": [
    {
     "data": {
      "text/plain": [
       "torch.Size([32, 6])"
      ]
     },
     "execution_count": 74,
     "metadata": {},
     "output_type": "execute_result"
    }
   ],
   "source": [
    "# Concatenate all the pieces of embedded matrix, which is the weights at each place of letter in matrix X\n",
    "# N = torch.cat((emb[:, 0, :], emb[:, 1], emb[:, 2]), 1)\n",
    "# N.shape     These lines do the same thing, but below is more flexible at \n",
    "\n",
    "Z = torch.cat(torch.unbind(emb, 1), 1)\n",
    "Z.shape"
   ]
  },
  {
   "cell_type": "code",
   "execution_count": 75,
   "id": "fd235e3c",
   "metadata": {},
   "outputs": [
    {
     "data": {
      "text/plain": [
       "torch.Size([32, 6])"
      ]
     },
     "execution_count": 75,
     "metadata": {},
     "output_type": "execute_result"
    }
   ],
   "source": [
    "Z = torch.cat(torch.unbind(emb, 1), 1) # uneffiecent and creates lots of memory\n",
    "Z.shape\n",
    "\n",
    "# Q = torch.unbind(emb, 1)  this breaks the [32, 3, 2] matrix into a tuple of 3 [32, 2] arrays\n",
    "# Q[0].shape "
   ]
  },
  {
   "cell_type": "code",
   "execution_count": 10,
   "id": "f5a91e0c",
   "metadata": {},
   "outputs": [
    {
     "name": "stdout",
     "output_type": "stream",
     "text": [
      "torch.Size([18])\n"
     ]
    },
    {
     "data": {
      "text/plain": [
       "tensor([[[ 0,  1],\n",
       "         [ 2,  3],\n",
       "         [ 4,  5]],\n",
       "\n",
       "        [[ 6,  7],\n",
       "         [ 8,  9],\n",
       "         [10, 11]],\n",
       "\n",
       "        [[12, 13],\n",
       "         [14, 15],\n",
       "         [16, 17]]])"
      ]
     },
     "execution_count": 10,
     "metadata": {},
     "output_type": "execute_result"
    }
   ],
   "source": [
    "## practice with a.view\n",
    "\n",
    "a = torch.arange(18)\n",
    "print(a.shape)\n",
    "a.view(3,3,2) # must multiply to same numbers"
   ]
  },
  {
   "cell_type": "code",
   "execution_count": 11,
   "id": "8ecb9165",
   "metadata": {},
   "outputs": [
    {
     "data": {
      "text/plain": [
       "tensor([[-0.7437,  0.9111,  0.4172,  ..., -0.8906,  0.0780, -0.1556],\n",
       "        [-0.9579,  0.9981,  0.9558,  ..., -0.7515,  0.7401,  0.9818],\n",
       "        [ 0.5338,  0.9274,  0.1247,  ...,  0.9116,  0.4257,  0.8823],\n",
       "        ...,\n",
       "        [-0.9653,  0.9928,  0.9868,  ...,  0.8227, -0.8342,  0.9816],\n",
       "        [-0.4200,  0.9607,  0.2070,  ...,  0.8971,  0.9916,  0.2514],\n",
       "        [-0.9407,  0.9780, -0.9071,  ...,  0.9787, -0.9759, -0.2924]])"
      ]
     },
     "execution_count": 11,
     "metadata": {},
     "output_type": "execute_result"
    }
   ],
   "source": [
    "h = torch.tanh(emb.view(-1, 6) @ W1 + b1) # this is creating a \n",
    "h"
   ]
  },
  {
   "cell_type": "code",
   "execution_count": 49,
   "id": "7e29f4db",
   "metadata": {},
   "outputs": [],
   "source": [
    "def build_dataset(words):\n",
    "    block_size = 3\n",
    "    X, Y = [], []\n",
    "    \n",
    "    for w in words:\n",
    "        context = [0] * block_size\n",
    "        for ch in w:\n",
    "            ix = s2i[ch] \n",
    "            Y.append(ix)\n",
    "            X.append(context)\n",
    "            context = context[1:] + [ix]\n",
    "            \n",
    "    X = torch.tensor(X)\n",
    "    Y = torch.tensor(Y)\n",
    "    return X, Y\n",
    "\n",
    "import random\n",
    "random.seed(42)\n",
    "random.shuffle(words)\n",
    "\n",
    "n1 = int(.8*len(words))\n",
    "n2 = int(.9*len(words))\n",
    "\n",
    "Xtr, Ytr = build_dataset(words[:n1]) # train_words\n",
    "Xdev, Ydev = build_dataset(words[n1:n2]) # dev_words\n",
    "Xte, Yte = build_dataset(words[n2:]) # test_words\n",
    "\n"
   ]
  },
  {
   "cell_type": "code",
   "execution_count": 8,
   "id": "e13b0da1",
   "metadata": {},
   "outputs": [],
   "source": [
    "lre = torch.linspace(-3, 0, 1000)\n",
    "lrs = 10**lre\n"
   ]
  },
  {
   "cell_type": "code",
   "execution_count": 50,
   "id": "a367c523",
   "metadata": {},
   "outputs": [
    {
     "name": "stdout",
     "output_type": "stream",
     "text": [
      "11897\n"
     ]
    }
   ],
   "source": [
    "g2 = torch.Generator().manual_seed(214748364)\n",
    "\n",
    "C = torch.randn((27, 10), generator=g2) # 27 x n_embeddings this is a 2d vector of all the next possible characters\n",
    "\n",
    "W1 = torch.randn((30, 200), generator=g2) # weights (block_size(3) x n_embeddings (10))  x N_neurons\n",
    "b1 = torch.randn(200, generator=g2)\n",
    "\n",
    "W2 = torch.randn((200,27), generator=g2) # creating second hidden layer which will take in the 100 transformed matrix and connect it to 27 output neurons\n",
    "b2 = torch.randn(27 , generator = g2) # bias \n",
    "\n",
    "\n",
    "params = [C, W1, W2, b1, b2]\n",
    "num_params = sum(p.nelement() for p in params)\n",
    "print(num_params)"
   ]
  },
  {
   "cell_type": "code",
   "execution_count": 51,
   "id": "e1c63b98",
   "metadata": {},
   "outputs": [],
   "source": [
    "lri = []\n",
    "lossi = []"
   ]
  },
  {
   "cell_type": "code",
   "execution_count": 52,
   "id": "8d6b69d8",
   "metadata": {},
   "outputs": [
    {
     "name": "stdout",
     "output_type": "stream",
     "text": [
      "tensor(2.2908, grad_fn=<NllLossBackward0>)\n"
     ]
    },
    {
     "data": {
      "image/png": "[encoded data removed]",
      "text/plain": [
       "<Figure size 640x480 with 1 Axes>"
      ]
     },
     "metadata": {},
     "output_type": "display_data"
    }
   ],
   "source": [
    "iters = 10000\n",
    "\n",
    "for p in params:\n",
    "    p.requires_grad = True\n",
    "\n",
    "for i in range(iters):\n",
    "    # Mini Sample\n",
    "    ix = torch.randint(0, Xtr.shape[0], (32,)) # this is a sample from 0 to size of X\n",
    "\n",
    "    emb = C[Xtr[ix]]\n",
    "    h = torch.tanh(emb.view(-1, 30) @ W1 + b1)\n",
    "    logits = h @ W2 + b2 # logits which are outputs\n",
    "    loss = F.cross_entropy(logits, Ytr[ix])\n",
    "    # counts = logits.exp()  OLD WAY TO CALCULATE LOSS ==> F.cross_entropy is better\n",
    "    # prob = counts / counts.sum(1, keepdim=True)\n",
    "    # loss = -prob[torch.arange(32), Y].log().mean() # this plucks the spot of probabilities following each Y\n",
    "    # print(loss)\n",
    "    # prob[0].sum()  == 1 #(normalized)\n",
    "\n",
    "    # backward pass\n",
    "    for p in params:\n",
    "        p.grad = None\n",
    "\n",
    "    # BACK PROPOGATE\n",
    "    loss.backward()\n",
    "    \n",
    "    \n",
    "    lr = .1 # using minimum found on the graph\n",
    "    for p in params:\n",
    "        p.data += -lr * p.grad\n",
    "        \n",
    "    # track stats\n",
    "    lossi.append(loss.item())\n",
    "    final = loss\n",
    "\n",
    "x_plot = torch.arange(iters)\n",
    "plt.plot(x_plot, lossi)\n",
    "print(final)"
   ]
  },
  {
   "cell_type": "code",
   "execution_count": 62,
   "id": "d1463124",
   "metadata": {},
   "outputs": [
    {
     "data": {
      "text/plain": [
       "[<matplotlib.lines.Line2D at 0x7ffd3bd50dc0>]"
      ]
     },
     "execution_count": 62,
     "metadata": {},
     "output_type": "execute_result"
    },
    {
     "data": {
      "image/png": "[encoded data removed]",
      "text/plain": [
       "<Figure size 640x480 with 1 Axes>"
      ]
     },
     "metadata": {},
     "output_type": "display_data"
    }
   ],
   "source": [
    "plt.plot(lri, lossi)"
   ]
  },
  {
   "cell_type": "code",
   "execution_count": 40,
   "id": "57a9841c",
   "metadata": {},
   "outputs": [
    {
     "data": {
      "text/plain": [
       "tensor(2.5963, grad_fn=<NllLossBackward0>)"
      ]
     },
     "execution_count": 40,
     "metadata": {},
     "output_type": "execute_result"
    }
   ],
   "source": [
    "emb = C[Xdev]  # the network has not been trained on these, yet still performs decent\n",
    "h = torch.tanh(emb.view(-1,30) @ W1 + b1)\n",
    "logits = h @ W2 + b2\n",
    "loss = F.cross_entropy(logits, Ydev)\n",
    "loss"
   ]
  },
  {
   "cell_type": "code",
   "execution_count": 41,
   "id": "3a1b2dab",
   "metadata": {},
   "outputs": [
    {
     "data": {
      "image/png": "[encoded data removed]",
      "text/plain": [
       "<Figure size 800x800 with 1 Axes>"
      ]
     },
     "metadata": {},
     "output_type": "display_data"
    }
   ],
   "source": [
    "plt.figure(figsize=(8,8))\n",
    "plt.scatter(C[:,0].data, C[:,1].data, s=200)\n",
    "for i in range(C.shape[0]):\n",
    "    plt.text(C[i, 0].item(), C[i, 1].item(), i2s[i], ha=\"center\", va=\"center\", color=\"white\")\n",
    "plt.grid('minor')"
   ]
  },
  {
   "cell_type": "code",
   "execution_count": 53,
   "id": "aa0e0e66",
   "metadata": {},
   "outputs": [
    {
     "ename": "NameError",
     "evalue": "name 'blocksize' is not defined",
     "output_type": "error",
     "traceback": [
      "\u001b[0;31m---------------------------------------------------------------------------\u001b[0m",
      "\u001b[0;31mNameError\u001b[0m                                 Traceback (most recent call last)",
      "Input \u001b[0;32mIn [53]\u001b[0m, in \u001b[0;36m<cell line: 1>\u001b[0;34m()\u001b[0m\n\u001b[0;32m----> 1\u001b[0m \u001b[43mblocksize\u001b[49m\n",
      "\u001b[0;31mNameError\u001b[0m: name 'blocksize' is not defined"
     ]
    }
   ],
   "source": []
  },
  {
   "cell_type": "code",
   "execution_count": 62,
   "id": "12e3f0bf",
   "metadata": {},
   "outputs": [
    {
     "ename": "KeyboardInterrupt",
     "evalue": "",
     "output_type": "error",
     "traceback": [
      "\u001b[0;31m---------------------------------------------------------------------------\u001b[0m",
      "\u001b[0;31mKeyboardInterrupt\u001b[0m                         Traceback (most recent call last)",
      "Input \u001b[0;32mIn [62]\u001b[0m, in \u001b[0;36m<cell line: 2>\u001b[0;34m()\u001b[0m\n\u001b[1;32m      7\u001b[0m h \u001b[38;5;241m=\u001b[39m torch\u001b[38;5;241m.\u001b[39mtanh(emb\u001b[38;5;241m.\u001b[39mview(\u001b[38;5;241m1\u001b[39m, \u001b[38;5;241m-\u001b[39m\u001b[38;5;241m1\u001b[39m) \u001b[38;5;241m@\u001b[39m W1 \u001b[38;5;241m+\u001b[39m b1)\n\u001b[1;32m      8\u001b[0m logits \u001b[38;5;241m=\u001b[39m h \u001b[38;5;241m@\u001b[39m W2 \u001b[38;5;241m+\u001b[39m b2\n\u001b[0;32m----> 9\u001b[0m probs \u001b[38;5;241m=\u001b[39m \u001b[43mF\u001b[49m\u001b[38;5;241;43m.\u001b[39;49m\u001b[43msoftmax\u001b[49m\u001b[43m(\u001b[49m\u001b[43mlogits\u001b[49m\u001b[43m,\u001b[49m\u001b[43m \u001b[49m\u001b[43mdim\u001b[49m\u001b[38;5;241;43m=\u001b[39;49m\u001b[38;5;241;43m1\u001b[39;49m\u001b[43m)\u001b[49m\n\u001b[1;32m     10\u001b[0m ix \u001b[38;5;241m=\u001b[39m torch\u001b[38;5;241m.\u001b[39mmultinomial(probs, num_samples\u001b[38;5;241m=\u001b[39m\u001b[38;5;241m1\u001b[39m, generator\u001b[38;5;241m=\u001b[39mg2)\u001b[38;5;241m.\u001b[39mitem()\n\u001b[1;32m     11\u001b[0m context \u001b[38;5;241m=\u001b[39m context[\u001b[38;5;241m1\u001b[39m:] \u001b[38;5;241m+\u001b[39m [ix]\n",
      "File \u001b[0;32m/Library/Frameworks/Python.framework/Versions/3.9/lib/python3.9/site-packages/torch/nn/functional.py:1858\u001b[0m, in \u001b[0;36msoftmax\u001b[0;34m(input, dim, _stacklevel, dtype)\u001b[0m\n\u001b[1;32m   1856\u001b[0m     dim \u001b[38;5;241m=\u001b[39m _get_softmax_dim(\u001b[38;5;124m\"\u001b[39m\u001b[38;5;124msoftmax\u001b[39m\u001b[38;5;124m\"\u001b[39m, \u001b[38;5;28minput\u001b[39m\u001b[38;5;241m.\u001b[39mdim(), _stacklevel)\n\u001b[1;32m   1857\u001b[0m \u001b[38;5;28;01mif\u001b[39;00m dtype \u001b[38;5;129;01mis\u001b[39;00m \u001b[38;5;28;01mNone\u001b[39;00m:\n\u001b[0;32m-> 1858\u001b[0m     ret \u001b[38;5;241m=\u001b[39m \u001b[38;5;28;43minput\u001b[39;49m\u001b[38;5;241;43m.\u001b[39;49m\u001b[43msoftmax\u001b[49m\u001b[43m(\u001b[49m\u001b[43mdim\u001b[49m\u001b[43m)\u001b[49m\n\u001b[1;32m   1859\u001b[0m \u001b[38;5;28;01melse\u001b[39;00m:\n\u001b[1;32m   1860\u001b[0m     ret \u001b[38;5;241m=\u001b[39m \u001b[38;5;28minput\u001b[39m\u001b[38;5;241m.\u001b[39msoftmax(dim, dtype\u001b[38;5;241m=\u001b[39mdtype)\n",
      "\u001b[0;31mKeyboardInterrupt\u001b[0m: "
     ]
    }
   ],
   "source": [
    "blocksize = 3\n",
    "for _ in range(10):\n",
    "    out = []\n",
    "    context = [0] * blocksize\n",
    "    while True:\n",
    "        emb = C[torch.tensor([context])]\n",
    "        h = torch.tanh(emb.view(1, -1) @ W1 + b1)\n",
    "        logits = h @ W2 + b2\n",
    "        probs = F.softmax(logits, dim=1)\n",
    "        ix = torch.multinomial(probs, num_samples=1, generator=g2).item()\n",
    "        context = context[1:] + [ix]\n",
    "        out.append(ix)\n",
    "        if ix == 0:\n",
    "            break\n",
    "\n",
    "print(''.join(i2s[i] for i in out))"
   ]
  },
  {
   "cell_type": "code",
   "execution_count": null,
   "id": "5c0c9168",
   "metadata": {},
   "outputs": [],
   "source": []
  }
 ],
 "metadata": {
  "kernelspec": {
   "display_name": "Python 3 (ipykernel)",
   "language": "python",
   "name": "python3"
  },
  "language_info": {
   "codemirror_mode": {
    "name": "ipython",
    "version": 3
   },
   "file_extension": ".py",
   "mimetype": "text/x-python",
   "name": "python",
   "nbconvert_exporter": "python",
   "pygments_lexer": "ipython3",
   "version": "3.9.13"
  }
 },
 "nbformat": 4,
 "nbformat_minor": 5
}
