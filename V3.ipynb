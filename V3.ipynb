{
 "cells": [
  {
   "cell_type": "code",
   "execution_count": 1,
   "id": "274d6e4d",
   "metadata": {},
   "outputs": [],
   "source": [
    "import torch\n",
    "import torch.nn.functional as F\n",
    "import matplotlib.pyplot as plt\n",
    "%matplotlib inline"
   ]
  },
  {
   "cell_type": "code",
   "execution_count": 2,
   "id": "4c67c794",
   "metadata": {},
   "outputs": [
    {
     "data": {
      "text/plain": [
       "['emma', 'olivia', 'ava', 'isabella', 'sophia']"
      ]
     },
     "execution_count": 2,
     "metadata": {},
     "output_type": "execute_result"
    }
   ],
   "source": [
    "words = open('names.txt', 'r').read().splitlines()\n",
    "words[:5]"
   ]
  },
  {
   "cell_type": "code",
   "execution_count": 32,
   "id": "b65b3815",
   "metadata": {},
   "outputs": [],
   "source": [
    "chars = sorted(list(set(''.join(words))))\n",
    "i2s = {p+1:l for p, l in enumerate(chars)}\n",
    "i2s[0] = '.'\n",
    "\n",
    "s2i = {}\n",
    "\n",
    "for i, l in i2s.items():\n",
    "    s2i[l] = i\n",
    "\n",
    "# s2i = {s:i for i, s in i2s.items()} same thing one line\n",
    "\n",
    "    \n"
   ]
  },
  {
   "cell_type": "code",
   "execution_count": 88,
   "id": "c98ea3ee",
   "metadata": {},
   "outputs": [
    {
     "name": "stdout",
     "output_type": "stream",
     "text": [
      "emma\n",
      "... ---> e\n",
      "emma\n",
      "..e ---> m\n",
      "emma\n",
      ".em ---> m\n",
      "emma\n",
      "emm ---> a\n",
      "emma\n",
      "mma ---> .\n",
      "olivia\n",
      "... ---> o\n",
      "olivia\n",
      "..o ---> l\n",
      "olivia\n",
      ".ol ---> i\n",
      "olivia\n",
      "oli ---> v\n",
      "olivia\n",
      "liv ---> i\n",
      "olivia\n",
      "ivi ---> a\n",
      "olivia\n",
      "via ---> .\n",
      "ava\n",
      "... ---> a\n",
      "ava\n",
      "..a ---> v\n",
      "ava\n",
      ".av ---> a\n",
      "ava\n",
      "ava ---> .\n",
      "isabella\n",
      "... ---> i\n",
      "isabella\n",
      "..i ---> s\n",
      "isabella\n",
      ".is ---> a\n",
      "isabella\n",
      "isa ---> b\n",
      "isabella\n",
      "sab ---> e\n",
      "isabella\n",
      "abe ---> l\n",
      "isabella\n",
      "bel ---> l\n",
      "isabella\n",
      "ell ---> a\n",
      "isabella\n",
      "lla ---> .\n",
      "sophia\n",
      "... ---> s\n",
      "sophia\n",
      "..s ---> o\n",
      "sophia\n",
      ".so ---> p\n",
      "sophia\n",
      "sop ---> h\n",
      "sophia\n",
      "oph ---> i\n",
      "sophia\n",
      "phi ---> a\n",
      "sophia\n",
      "hia ---> .\n"
     ]
    }
   ],
   "source": [
    "block_size = 3\n",
    "X, Y = [], [] # X is input, Y is labels\n",
    "for w in words[:5]:\n",
    "    \n",
    "    context = [0] * block_size\n",
    "    for ch in w + '.':\n",
    "        print(w)\n",
    "        ix = s2i[ch]\n",
    "        X.append(context) # current running context\n",
    "        Y.append(ix)\n",
    "        print(''.join(i2s[i] for i in context), '--->', i2s[ix])\n",
    "        context = context[1:] + [ix] # move it up one \n",
    "        \n",
    "X = torch.tensor(X)\n",
    "Y = torch.tensor(Y)"
   ]
  },
  {
   "cell_type": "code",
   "execution_count": 104,
   "id": "db94b969",
   "metadata": {},
   "outputs": [
    {
     "data": {
      "text/plain": [
       "torch.Size([32, 3, 2])"
      ]
     },
     "execution_count": 104,
     "metadata": {},
     "output_type": "execute_result"
    }
   ],
   "source": [
    "g2 = torch.Generator().manual_seed(214748364)\n",
    "\n",
    "C = torch.randn((27, 2), generator=g2) # 27 x 2\n",
    "V = F.one_hot(torch.tensor(5), num_classes=27).float() # 27 x 1\n",
    "A = V @ C\n",
    "emb = C[X]\n",
    "emb.shape   # 3 arrays of [32, 2]"
   ]
  },
  {
   "cell_type": "code",
   "execution_count": 90,
   "id": "124e22d4",
   "metadata": {},
   "outputs": [
    {
     "name": "stdout",
     "output_type": "stream",
     "text": [
      "torch.Size([32, 3])\n",
      "torch.Size([32, 3, 2])\n",
      "tensor([-0.7303,  1.1832])\n",
      "tensor([-0.7303,  1.1832])\n"
     ]
    }
   ],
   "source": [
    "# PyTorch Indexing\n",
    "\n",
    "print(X.shape)\n",
    "print(C[X].shape)\n",
    "print(C[X][13,2])\n",
    "print(C[1])"
   ]
  },
  {
   "cell_type": "code",
   "execution_count": 91,
   "id": "9cc64c95",
   "metadata": {},
   "outputs": [],
   "source": [
    "# Creating first hidden layer of neurons\n",
    "\n",
    "W1 = torch.randn((6, 100), generator=g2)\n",
    "b1 = torch.randn(100, generator=g2)\n",
    "\n",
    "# we want to do eeb @ W1 + b1 but because of dimensions wont work"
   ]
  },
  {
   "cell_type": "code",
   "execution_count": 92,
   "id": "aa2b0616",
   "metadata": {},
   "outputs": [
    {
     "data": {
      "text/plain": [
       "torch.Size([32, 6])"
      ]
     },
     "execution_count": 92,
     "metadata": {},
     "output_type": "execute_result"
    }
   ],
   "source": [
    "# Concatenate all the pieces of embedded matrix, which is the weights at each place of letter in matrix X\n",
    "# N = torch.cat((emb[:, 0, :], emb[:, 1], emb[:, 2]), 1)\n",
    "# N.shape     These lines do the same thing, but below is more flexible at \n",
    "\n",
    "Z = torch.cat(torch.unbind(emb, 1), 1)\n",
    "Z.shape"
   ]
  },
  {
   "cell_type": "code",
   "execution_count": 105,
   "id": "8ade36d9",
   "metadata": {},
   "outputs": [
    {
     "data": {
      "text/plain": [
       "torch.Size([32, 2])"
      ]
     },
     "execution_count": 105,
     "metadata": {},
     "output_type": "execute_result"
    }
   ],
   "source": [
    "Z = torch.cat(torch.unbind(emb, 1), 1)\n",
    "Z.shape\n",
    "\n",
    "# Q = torch.unbind(emb, 1)  this breaks the [32, 3, 2] matrix into a tuple of 3 [32, 2] arrays\n",
    "# Q[0].shape "
   ]
  },
  {
   "cell_type": "code",
   "execution_count": null,
   "id": "0ab53738",
   "metadata": {},
   "outputs": [],
   "source": []
  }
 ],
 "metadata": {
  "kernelspec": {
   "display_name": "Python 3 (ipykernel)",
   "language": "python",
   "name": "python3"
  },
  "language_info": {
   "codemirror_mode": {
    "name": "ipython",
    "version": 3
   },
   "file_extension": ".py",
   "mimetype": "text/x-python",
   "name": "python",
   "nbconvert_exporter": "python",
   "pygments_lexer": "ipython3",
   "version": "3.9.13"
  }
 },
 "nbformat": 4,
 "nbformat_minor": 5
}
