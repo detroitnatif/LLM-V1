{
 "cells": [
  {
   "cell_type": "code",
   "execution_count": 1,
   "id": "d555cddf",
   "metadata": {},
   "outputs": [],
   "source": [
    "import numpy\n",
    "import math\n",
    "import torch\n",
    "from collections import Counter \n",
    "import matplotlib.pyplot as plt\n",
    "import torch.nn.functional as F\n"
   ]
  },
  {
   "cell_type": "code",
   "execution_count": 2,
   "id": "21be1cd5",
   "metadata": {},
   "outputs": [
    {
     "data": {
      "text/plain": [
       "32033"
      ]
     },
     "execution_count": 2,
     "metadata": {},
     "output_type": "execute_result"
    }
   ],
   "source": [
    "words = open('names.txt', 'r').read().splitlines()\n",
    "len(words)"
   ]
  },
  {
   "cell_type": "code",
   "execution_count": 3,
   "id": "188009cb",
   "metadata": {},
   "outputs": [],
   "source": [
    "chars = sorted(list(set(''.join(words))))\n",
    "s2i = {s:i + 1 for i, s in enumerate(chars)}  # create str to index of all letters\n",
    "s2i['.'] = 0 # ending and starting character is '.'\n",
    "\n",
    "\n",
    "\n",
    "i2s = {i:s for s, i in s2i.items()}  # reverse the dictionary from index to string"
   ]
  },
  {
   "cell_type": "code",
   "execution_count": 4,
   "id": "7d5978b9",
   "metadata": {},
   "outputs": [
    {
     "name": "stdout",
     "output_type": "stream",
     "text": [
      "tyler is on line 1364\n",
      "tyler is on line 18147\n"
     ]
    }
   ],
   "source": [
    "search_word = 'tyler'\n",
    "\n",
    "for place, name in enumerate(words):\n",
    "    if search_word in name:\n",
    "        print(f'tyler is on line {place}')"
   ]
  },
  {
   "cell_type": "code",
   "execution_count": 5,
   "id": "2f69170d",
   "metadata": {},
   "outputs": [],
   "source": [
    "s = set(words)\n",
    "duplicates = [item for item in words[:50] if words.count(item) > 1 and item in s]"
   ]
  },
  {
   "cell_type": "code",
   "execution_count": 6,
   "id": "69926d4e",
   "metadata": {},
   "outputs": [],
   "source": [
    "bigrams = {}\n",
    "\n",
    "# for w in words:\n",
    "#     chs = [\"<S>\"] + list(w) + [\"<E>\"]\n",
    "#     for ch1, ch2 in zip(chs, chs[1:]):\n",
    "#         b = (ch1, ch2)\n",
    "#         bigrams[b] = bigrams.get(b, 0) + 1\n"
   ]
  },
  {
   "cell_type": "code",
   "execution_count": 7,
   "id": "e114e990",
   "metadata": {},
   "outputs": [],
   "source": [
    "# sorted(bigrams.items(), key = lambda kv: -kv[1])"
   ]
  },
  {
   "cell_type": "code",
   "execution_count": 8,
   "id": "2bfeee08",
   "metadata": {},
   "outputs": [
    {
     "data": {
      "text/plain": [
       "[]"
      ]
     },
     "execution_count": 8,
     "metadata": {},
     "output_type": "execute_result"
    }
   ],
   "source": [
    "bigram_counter = Counter(bigrams)\n",
    "\n",
    "mc = bigram_counter.most_common(5)\n",
    "mc"
   ]
  },
  {
   "cell_type": "code",
   "execution_count": 9,
   "id": "202a639e",
   "metadata": {},
   "outputs": [],
   "source": [
    "\n",
    "N = torch.zeros((27,27), dtype=torch.int32) # create array \n",
    "\n",
    "for w in words:\n",
    "    chs = [\".\"] + list(w) + [\".\"]\n",
    "    for ch1, ch2 in zip(chs, chs[1:]):\n",
    "        ix1 = s2i[ch1]\n",
    "        ix2 = s2i[ch2]\n",
    "        N[ix1, ix2] += 1\n"
   ]
  },
  {
   "cell_type": "code",
   "execution_count": 10,
   "id": "1f72388a",
   "metadata": {
    "scrolled": true
   },
   "outputs": [
    {
     "data": {
      "text/plain": [
       "<matplotlib.image.AxesImage at 0x7f987a3af730>"
      ]
     },
     "execution_count": 10,
     "metadata": {},
     "output_type": "execute_result"
    },
    {
     "data": {
      "image/png": "[encoded data removed]",
      "text/plain": [
       "<Figure size 640x480 with 1 Axes>"
      ]
     },
     "metadata": {},
     "output_type": "display_data"
    }
   ],
   "source": [
    "plt.imshow(N)\n"
   ]
  },
  {
   "cell_type": "code",
   "execution_count": null,
   "id": "e40784c8",
   "metadata": {
    "scrolled": true
   },
   "outputs": [
    {
     "name": "stdout",
     "output_type": "stream",
     "text": [
      "fin\n"
     ]
    }
   ],
   "source": [
    "plt.figure(figsize = (16,16))\n",
    "print(\"fin\")\n",
    "plt.imshow(N, cmap='Blues')\n",
    "for i in range(27):\n",
    "    for j in range(27):\n",
    "        chstr = i2s[i] + i2s[j]\n",
    "        plt.text(j, i, chstr, ha='center', va='top', color='gray')\n",
    "        plt.text(j, i, N[i, j].item(), ha='center', va='bottom', color='gray')\n",
    "        plt.savefig(\"BigramsCount\")\n",
    "plt.axis('off');\n",
    "plt.imshow(N)\n",
    "print(\"fin\")\n",
    "plt.savefig(\"BigramsCount\")"
   ]
  },
  {
   "cell_type": "code",
   "execution_count": null,
   "id": "20f8120c",
   "metadata": {},
   "outputs": [],
   "source": [
    "print(N[0,:].sum())\n"
   ]
  },
  {
   "cell_type": "code",
   "execution_count": 12,
   "id": "cdf4f150",
   "metadata": {},
   "outputs": [],
   "source": [
    "p = N[0].float()\n",
    "p = p / p.sum()\n",
    "# this is getting probabilties of the first row"
   ]
  },
  {
   "cell_type": "code",
   "execution_count": 15,
   "id": "788b7855",
   "metadata": {},
   "outputs": [
    {
     "data": {
      "text/plain": [
       "tensor([0.2008, 0.3866, 0.4126])"
      ]
     },
     "execution_count": 15,
     "metadata": {},
     "output_type": "execute_result"
    }
   ],
   "source": [
    "g = torch.Generator().manual_seed(214748364)\n",
    "p = torch.rand(3, generator = g) # creates a list of 3 probabilities\n",
    "p = p / p.sum() # normalize \n",
    "p\n",
    "# this generated 3 random numbers, and converted them to probabilities"
   ]
  },
  {
   "cell_type": "code",
   "execution_count": 14,
   "id": "6cbf494d",
   "metadata": {},
   "outputs": [
    {
     "data": {
      "text/plain": [
       "tensor([0, 2, 2, 2, 1, 2, 2, 1, 2, 0, 0, 0, 1, 2, 1, 1, 1, 2, 0, 0])"
      ]
     },
     "execution_count": 14,
     "metadata": {},
     "output_type": "execute_result"
    }
   ],
   "source": [
    "torch.multinomial(p, num_samples=20, replacement=True, generator=g) #using the probabilites list 'p' this creates 20 samples using them"
   ]
  },
  {
   "cell_type": "code",
   "execution_count": 15,
   "id": "bfbe4fcf",
   "metadata": {},
   "outputs": [],
   "source": [
    "P = (N+1) / N.sum(dim=1, keepdim=True) # dim = 1 sums across rows whereas dim = 0 sums each column\n",
    "P = torch.round(P * 1000) / 1000 # keepdim=True makes sure that rows and not columns get normalized\n",
    "\n",
    "#P[0].sum() # if this is == 1 it means the row is normalized"
   ]
  },
  {
   "cell_type": "code",
   "execution_count": 16,
   "id": "5c1ecf86",
   "metadata": {},
   "outputs": [],
   "source": [
    "g = torch.Generator().manual_seed(214748364)\n",
    "\n",
    "\n",
    "for i in range(20):\n",
    "    ix = 0\n",
    "    out = []\n",
    "    while True:\n",
    " \n",
    "        p = P[ix] # pulls out the row\n",
    "        \n",
    "        # V1. p = N[ix].float() # get the entire row in floating point\n",
    "        # V1 p = p / p.sum() # divide row by sum to get weights\n",
    "        \n",
    "        # p = torch.ones(27) / 27 this would create an equal distribution which is the same as an untrained model\n",
    "        \n",
    "        ix = torch.multinomial(p, num_samples=1, replacement=True, generator=g).item() # creates one sample using the probability matrix\n",
    "        out.append(i2s[ix]) # create a list of samples and wait under the terminator\n",
    "\n",
    "        if ix == 0:\n",
    "            break\n",
    "   # print(''.join(out))"
   ]
  },
  {
   "cell_type": "code",
   "execution_count": 23,
   "id": "907118f7",
   "metadata": {},
   "outputs": [
    {
     "ename": "NameError",
     "evalue": "name 'P' is not defined",
     "output_type": "error",
     "traceback": [
      "\u001b[0;31m---------------------------------------------------------------------------\u001b[0m",
      "\u001b[0;31mNameError\u001b[0m                                 Traceback (most recent call last)",
      "Input \u001b[0;32mIn [23]\u001b[0m, in \u001b[0;36m<cell line: 3>\u001b[0;34m()\u001b[0m\n\u001b[1;32m      6\u001b[0m ix1 \u001b[38;5;241m=\u001b[39m s2i[ch1]\n\u001b[1;32m      7\u001b[0m ix2 \u001b[38;5;241m=\u001b[39m s2i[ch2]\n\u001b[0;32m----> 8\u001b[0m prob \u001b[38;5;241m=\u001b[39m \u001b[43mP\u001b[49m[ix1, ix2]\n\u001b[1;32m      9\u001b[0m logprob \u001b[38;5;241m=\u001b[39m torch\u001b[38;5;241m.\u001b[39mlog(prob)\n\u001b[1;32m     10\u001b[0m log_liklihood \u001b[38;5;241m+\u001b[39m\u001b[38;5;241m=\u001b[39m logprob\n",
      "\u001b[0;31mNameError\u001b[0m: name 'P' is not defined"
     ]
    }
   ],
   "source": [
    "log_liklihood = 0\n",
    "n = 0\n",
    "for w in words[:3]:\n",
    "    chs = '.' + w + '.'\n",
    "    for ch1, ch2 in zip(chs, chs[1:]):\n",
    "        ix1 = s2i[ch1]\n",
    "        ix2 = s2i[ch2]\n",
    "        prob = P[ix1, ix2]\n",
    "        logprob = torch.log(prob)\n",
    "        log_liklihood += logprob\n",
    "        print(f'{ch1}{ch2}: {prob:.4f} {logprob:.4f}')\n",
    "        n += 1\n",
    "        \n",
    "pll = -log_liklihood\n",
    "avg = pll / n\n",
    "print(avg)"
   ]
  },
  {
   "cell_type": "code",
   "execution_count": 4,
   "id": "3857344b",
   "metadata": {},
   "outputs": [],
   "source": [
    "xs, ys = [], []\n",
    "\n",
    "for w in words:\n",
    "    chs = \".\" + w + \".\"\n",
    "    for ch1, ch2 in zip(chs, chs[1:]):\n",
    "        ix1 = s2i[ch1]\n",
    "        ix2 = s2i[ch2]\n",
    "        xs.append(ix1)\n",
    "        ys.append(ix2)\n",
    "        \n",
    "xs = torch.tensor(xs)\n",
    "ys = torch.tensor(ys)\n"
   ]
  },
  {
   "cell_type": "code",
   "execution_count": 5,
   "id": "34e9d703",
   "metadata": {
    "scrolled": true
   },
   "outputs": [
    {
     "name": "stdout",
     "output_type": "stream",
     "text": [
      "torch.Size([228146, 27])\n"
     ]
    }
   ],
   "source": [
    "\n",
    "xenc = F.one_hot(xs, num_classes=27).float()\n",
    "print(xenc.shape)"
   ]
  },
  {
   "cell_type": "code",
   "execution_count": 6,
   "id": "ad9c2bcc",
   "metadata": {},
   "outputs": [],
   "source": [
    "g2 = torch.Generator().manual_seed(214748364)\n",
    "W = torch.randn((27, 27), generator=g2, requires_grad=True)"
   ]
  },
  {
   "cell_type": "code",
   "execution_count": 27,
   "id": "18534aad",
   "metadata": {},
   "outputs": [],
   "source": [
    "# (16 x 27) @ (27 x 27) => (16 x 27) "
   ]
  },
  {
   "cell_type": "code",
   "execution_count": null,
   "id": "068ba169",
   "metadata": {},
   "outputs": [],
   "source": [
    "loss = -probs[xs, ys].log().mean()\n",
    "loss"
   ]
  },
  {
   "cell_type": "code",
   "execution_count": null,
   "id": "13f3f616",
   "metadata": {},
   "outputs": [],
   "source": [
    "# BACKWARD PASS\n",
    "W.grad = None\n",
    "loss.backward()"
   ]
  },
  {
   "cell_type": "code",
   "execution_count": null,
   "id": "f1ef3500",
   "metadata": {},
   "outputs": [],
   "source": [
    "W.data += -0.1 * W.grad"
   ]
  },
  {
   "cell_type": "code",
   "execution_count": 25,
   "id": "655fef19",
   "metadata": {},
   "outputs": [
    {
     "name": "stdout",
     "output_type": "stream",
     "text": [
      "torch.Size([228146])\n",
      "torch.Size([228146])\n",
      "torch.Size([228146])\n",
      "torch.Size([228146])\n",
      "torch.Size([228146])\n",
      "finished\n"
     ]
    }
   ],
   "source": [
    "for i in range(5):\n",
    "    \n",
    "    \n",
    "    \n",
    "    # FORWARD PASS\n",
    "    xenc = F.one_hot(xs, num_classes=27).float()\n",
    "\n",
    "    logits = xenc @ W\n",
    "    counts = logits.exp()\n",
    "    probs = counts / counts.sum(1, keepdims=True) # normalize rows\n",
    "    num = xs.nelement()\n",
    "    loss = -probs[torch.arange(num), ys].log().mean() # + .02 * (W**2).mean()\n",
    "    \n",
    "    # BACKWARD PASS\n",
    "    \n",
    "    \n",
    "    W.grad = None\n",
    "    loss.backward()\n",
    "    \n",
    "    W.data += -10 * W.grad\n",
    "    \n",
    "    if i == 25:\n",
    "        print(loss)\n",
    "    \n",
    "\n",
    "\n",
    "print(\"finished\")"
   ]
  },
  {
   "cell_type": "code",
   "execution_count": 20,
   "id": "790547e4",
   "metadata": {},
   "outputs": [
    {
     "name": "stdout",
     "output_type": "stream",
     "text": [
      "2.5400636196136475\n",
      "0.03038601391017437\n"
     ]
    }
   ],
   "source": [
    "print(loss.item())\n",
    "print(probs[4, 4].item())"
   ]
  },
  {
   "cell_type": "code",
   "execution_count": 26,
   "id": "f860985d",
   "metadata": {},
   "outputs": [
    {
     "name": "stdout",
     "output_type": "stream",
     "text": [
      "ribinhbgi.\n",
      "zuia.\n",
      "aien.\n",
      "js.\n",
      "tarqqoelayavin.\n"
     ]
    }
   ],
   "source": [
    "for i in range(5):\n",
    "    \n",
    "    out = []\n",
    "    ix = 0\n",
    "    \n",
    "    while True:\n",
    "        xenc = F.one_hot(torch.tensor([ix]), num_classes=27).float()\n",
    "        logits = xenc @ W\n",
    "        counts = logits.exp()\n",
    "        p = counts / counts.sum(1, keepdim=True)\n",
    "        ix = torch.multinomial(p, num_samples=1, replacement=True,generator=g).item()\n",
    "\n",
    "        out.append(i2s[ix])\n",
    "\n",
    "        if ix == 0:\n",
    "            break\n",
    "            \n",
    "    print(''.join(out))"
   ]
  },
  {
   "cell_type": "code",
   "execution_count": null,
   "id": "129f3a94",
   "metadata": {},
   "outputs": [],
   "source": []
  }
 ],
 "metadata": {
  "kernelspec": {
   "display_name": "Python 3 (ipykernel)",
   "language": "python",
   "name": "python3"
  },
  "language_info": {
   "codemirror_mode": {
    "name": "ipython",
    "version": 3
   },
   "file_extension": ".py",
   "mimetype": "text/x-python",
   "name": "python",
   "nbconvert_exporter": "python",
   "pygments_lexer": "ipython3",
   "version": "3.9.13"
  }
 },
 "nbformat": 4,
 "nbformat_minor": 5
}
